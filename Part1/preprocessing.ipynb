{
 "cells": [
  {
   "cell_type": "code",
   "execution_count": 68,
   "metadata": {
    "ExecuteTime": {
     "end_time": "2021-01-12T23:16:11.007483Z",
     "start_time": "2021-01-12T23:16:10.977568Z"
    }
   },
   "outputs": [
    {
     "name": "stdout",
     "output_type": "stream",
     "text": [
      "The autoreload extension is already loaded. To reload it, use:\n",
      "  %reload_ext autoreload\n"
     ]
    }
   ],
   "source": [
    "%load_ext autoreload\n",
    "%autoreload 2"
   ]
  },
  {
   "cell_type": "code",
   "execution_count": 5,
   "metadata": {},
   "outputs": [],
   "source": [
    "import sys\n",
    "sys.path.insert(1, '../src/data')"
   ]
  },
  {
   "cell_type": "code",
   "execution_count": 6,
   "metadata": {
    "ExecuteTime": {
     "end_time": "2021-01-12T23:16:11.798895Z",
     "start_time": "2021-01-12T23:16:11.422605Z"
    }
   },
   "outputs": [],
   "source": [
    "import json\n",
    "import re\n",
    "from ast import literal_eval\n",
    "from string import punctuation\n",
    "\n",
    "import pandas as pd\n",
    "from regex import UNICODE, VERBOSE, compile\n",
    "from segtok.tokenizer import word_tokenizer\n",
    "\n",
    "from main_processing import (remove_html_tags, remove_punctuation,\n",
    "                                      remove_urls)\n",
    "from src import PROJECT_PATHS"
   ]
  },
  {
   "cell_type": "code",
   "execution_count": 71,
   "metadata": {
    "ExecuteTime": {
     "end_time": "2021-01-12T23:16:13.662000Z",
     "start_time": "2021-01-12T23:16:13.620741Z"
    }
   },
   "outputs": [],
   "source": [
    "def is_punctuated(df, text_col=\"TEXT\"):\n",
    "    def punctuated(text):\n",
    "        for x in text:\n",
    "            if x in punctuation:\n",
    "                return True\n",
    "        else:\n",
    "            return False\n",
    "    return df[text_col].map(punctuated)"
   ]
  },
  {
   "cell_type": "code",
   "execution_count": 72,
   "metadata": {
    "ExecuteTime": {
     "end_time": "2021-01-12T23:16:21.959668Z",
     "start_time": "2021-01-12T23:16:19.672281Z"
    }
   },
   "outputs": [],
   "source": [
    "df = pd.read_csv(f\"{PROJECT_PATHS.data}\\\\processed\\\\peeled.csv\", index_col=0)"
   ]
  },
  {
   "cell_type": "code",
   "execution_count": 73,
   "metadata": {
    "ExecuteTime": {
     "end_time": "2021-01-12T23:16:22.406677Z",
     "start_time": "2021-01-12T23:16:22.380204Z"
    }
   },
   "outputs": [
    {
     "data": {
      "text/plain": [
       "(95580, 20)"
      ]
     },
     "execution_count": 73,
     "metadata": {},
     "output_type": "execute_result"
    }
   ],
   "source": [
    "df.shape"
   ]
  },
  {
   "cell_type": "code",
   "execution_count": 74,
   "metadata": {
    "ExecuteTime": {
     "end_time": "2021-01-12T23:16:26.796651Z",
     "start_time": "2021-01-12T23:16:26.753802Z"
    }
   },
   "outputs": [
    {
     "data": {
      "text/html": [
       "<div>\n",
       "<style scoped>\n",
       "    .dataframe tbody tr th:only-of-type {\n",
       "        vertical-align: middle;\n",
       "    }\n",
       "\n",
       "    .dataframe tbody tr th {\n",
       "        vertical-align: top;\n",
       "    }\n",
       "\n",
       "    .dataframe thead th {\n",
       "        text-align: right;\n",
       "    }\n",
       "</style>\n",
       "<table border=\"1\" class=\"dataframe\">\n",
       "  <thead>\n",
       "    <tr style=\"text-align: right;\">\n",
       "      <th></th>\n",
       "      <th>TITLE</th>\n",
       "      <th>LIKES</th>\n",
       "      <th>TEXT</th>\n",
       "      <th>TAGS</th>\n",
       "      <th>COMMENTS</th>\n",
       "      <th>VIEWS</th>\n",
       "      <th>NICKNAME</th>\n",
       "      <th>TIME_GAP</th>\n",
       "      <th>TIMESTAMP</th>\n",
       "      <th>CURRENT_TIMESTAMP</th>\n",
       "      <th>politics</th>\n",
       "      <th>humour</th>\n",
       "      <th>help</th>\n",
       "      <th>children</th>\n",
       "      <th>relationships</th>\n",
       "      <th>coronavirus</th>\n",
       "      <th>poetry</th>\n",
       "      <th>job</th>\n",
       "      <th>history</th>\n",
       "      <th>ukraine</th>\n",
       "    </tr>\n",
       "  </thead>\n",
       "  <tbody>\n",
       "    <tr>\n",
       "      <th>0</th>\n",
       "      <td>МВД разработало правила отправки пьяных россия...</td>\n",
       "      <td>NaN</td>\n",
       "      <td>МВД России разработало порядок доставления нет...</td>\n",
       "      <td>['Полиция', 'Вытрезвитель', 'Опьянение', 'Прое...</td>\n",
       "      <td>50</td>\n",
       "      <td>NaN</td>\n",
       "      <td>Kanedias</td>\n",
       "      <td>2 месяца назад</td>\n",
       "      <td>2021-02-20T22:55:57+03:00</td>\n",
       "      <td>1.620672e+09</td>\n",
       "      <td>1</td>\n",
       "      <td>0</td>\n",
       "      <td>0</td>\n",
       "      <td>0</td>\n",
       "      <td>0</td>\n",
       "      <td>0</td>\n",
       "      <td>0</td>\n",
       "      <td>0</td>\n",
       "      <td>0</td>\n",
       "      <td>0</td>\n",
       "    </tr>\n",
       "    <tr>\n",
       "      <th>1</th>\n",
       "      <td>Ответ на пост «\"Геноцид 1933 года\" на страница...</td>\n",
       "      <td>-39.0</td>\n",
       "      <td>А что вы хотите? Национализм и шовинизм, в том...</td>\n",
       "      <td>['[моё]', 'Политика', 'Голод', 'Голодомор', 'У...</td>\n",
       "      <td>152</td>\n",
       "      <td>Загружаем</td>\n",
       "      <td>CultDeadCow</td>\n",
       "      <td>2 месяца назад</td>\n",
       "      <td>2021-02-20T18:44:21+03:00</td>\n",
       "      <td>1.620672e+09</td>\n",
       "      <td>1</td>\n",
       "      <td>0</td>\n",
       "      <td>0</td>\n",
       "      <td>0</td>\n",
       "      <td>0</td>\n",
       "      <td>0</td>\n",
       "      <td>0</td>\n",
       "      <td>0</td>\n",
       "      <td>0</td>\n",
       "      <td>0</td>\n",
       "    </tr>\n",
       "    <tr>\n",
       "      <th>2</th>\n",
       "      <td>Сахалинский депутат лишился мандата из-за виде...</td>\n",
       "      <td>186.0</td>\n",
       "      <td>Депутаты Томаринского городского округа (юг Са...</td>\n",
       "      <td>['[моё]', 'Новости', 'Политика', 'Скандал', 'С...</td>\n",
       "      <td>30</td>\n",
       "      <td>Загружаем</td>\n",
       "      <td>TASSagency</td>\n",
       "      <td>2 месяца назад</td>\n",
       "      <td>2021-02-20T12:57:10+03:00</td>\n",
       "      <td>1.620672e+09</td>\n",
       "      <td>1</td>\n",
       "      <td>0</td>\n",
       "      <td>0</td>\n",
       "      <td>0</td>\n",
       "      <td>0</td>\n",
       "      <td>0</td>\n",
       "      <td>0</td>\n",
       "      <td>0</td>\n",
       "      <td>0</td>\n",
       "      <td>0</td>\n",
       "    </tr>\n",
       "    <tr>\n",
       "      <th>3</th>\n",
       "      <td>Рогозин отчитался Путину об успехах «Роскосмоса»</td>\n",
       "      <td>48.0</td>\n",
       "      <td>Глава «Роскосмоса» Дмитрий Рогозин на встрече ...</td>\n",
       "      <td>['Дмитрий Рогозин', 'Новости', 'Политика', 'Ко...</td>\n",
       "      <td>33</td>\n",
       "      <td>Загружаем</td>\n",
       "      <td>ElonMuskSpaceX</td>\n",
       "      <td>2 месяца назад</td>\n",
       "      <td>2021-02-20T12:34:19+03:00</td>\n",
       "      <td>1.620672e+09</td>\n",
       "      <td>1</td>\n",
       "      <td>0</td>\n",
       "      <td>0</td>\n",
       "      <td>0</td>\n",
       "      <td>0</td>\n",
       "      <td>0</td>\n",
       "      <td>0</td>\n",
       "      <td>0</td>\n",
       "      <td>0</td>\n",
       "      <td>0</td>\n",
       "    </tr>\n",
       "    <tr>\n",
       "      <th>4</th>\n",
       "      <td>Москва ждет реакцию Лондона на утечку данных о...</td>\n",
       "      <td>27.0</td>\n",
       "      <td>МОСКВА, 20 февраля. /ТАСС/. РФ ждет реакцию Ве...</td>\n",
       "      <td>['Мария Захарова', 'Политика', 'Великобритания...</td>\n",
       "      <td>57</td>\n",
       "      <td>Загружаем</td>\n",
       "      <td>rug178</td>\n",
       "      <td>2 месяца назад</td>\n",
       "      <td>2021-02-20T12:07:30+03:00</td>\n",
       "      <td>1.620672e+09</td>\n",
       "      <td>1</td>\n",
       "      <td>0</td>\n",
       "      <td>0</td>\n",
       "      <td>0</td>\n",
       "      <td>0</td>\n",
       "      <td>0</td>\n",
       "      <td>0</td>\n",
       "      <td>0</td>\n",
       "      <td>0</td>\n",
       "      <td>0</td>\n",
       "    </tr>\n",
       "  </tbody>\n",
       "</table>\n",
       "</div>"
      ],
      "text/plain": [
       "                                               TITLE  LIKES  \\\n",
       "0  МВД разработало правила отправки пьяных россия...    NaN   \n",
       "1  Ответ на пост «\"Геноцид 1933 года\" на страница...  -39.0   \n",
       "2  Сахалинский депутат лишился мандата из-за виде...  186.0   \n",
       "3   Рогозин отчитался Путину об успехах «Роскосмоса»   48.0   \n",
       "4  Москва ждет реакцию Лондона на утечку данных о...   27.0   \n",
       "\n",
       "                                                TEXT  \\\n",
       "0  МВД России разработало порядок доставления нет...   \n",
       "1  А что вы хотите? Национализм и шовинизм, в том...   \n",
       "2  Депутаты Томаринского городского округа (юг Са...   \n",
       "3  Глава «Роскосмоса» Дмитрий Рогозин на встрече ...   \n",
       "4  МОСКВА, 20 февраля. /ТАСС/. РФ ждет реакцию Ве...   \n",
       "\n",
       "                                                TAGS  COMMENTS      VIEWS  \\\n",
       "0  ['Полиция', 'Вытрезвитель', 'Опьянение', 'Прое...        50        NaN   \n",
       "1  ['[моё]', 'Политика', 'Голод', 'Голодомор', 'У...       152  Загружаем   \n",
       "2  ['[моё]', 'Новости', 'Политика', 'Скандал', 'С...        30  Загружаем   \n",
       "3  ['Дмитрий Рогозин', 'Новости', 'Политика', 'Ко...        33  Загружаем   \n",
       "4  ['Мария Захарова', 'Политика', 'Великобритания...        57  Загружаем   \n",
       "\n",
       "         NICKNAME        TIME_GAP                  TIMESTAMP  \\\n",
       "0        Kanedias  2 месяца назад  2021-02-20T22:55:57+03:00   \n",
       "1     CultDeadCow  2 месяца назад  2021-02-20T18:44:21+03:00   \n",
       "2      TASSagency  2 месяца назад  2021-02-20T12:57:10+03:00   \n",
       "3  ElonMuskSpaceX  2 месяца назад  2021-02-20T12:34:19+03:00   \n",
       "4          rug178  2 месяца назад  2021-02-20T12:07:30+03:00   \n",
       "\n",
       "   CURRENT_TIMESTAMP  politics  humour  help  children  relationships  \\\n",
       "0       1.620672e+09         1       0     0         0              0   \n",
       "1       1.620672e+09         1       0     0         0              0   \n",
       "2       1.620672e+09         1       0     0         0              0   \n",
       "3       1.620672e+09         1       0     0         0              0   \n",
       "4       1.620672e+09         1       0     0         0              0   \n",
       "\n",
       "   coronavirus  poetry  job  history  ukraine  \n",
       "0            0       0    0        0        0  \n",
       "1            0       0    0        0        0  \n",
       "2            0       0    0        0        0  \n",
       "3            0       0    0        0        0  \n",
       "4            0       0    0        0        0  "
      ]
     },
     "execution_count": 74,
     "metadata": {},
     "output_type": "execute_result"
    }
   ],
   "source": [
    "df.head()"
   ]
  },
  {
   "cell_type": "markdown",
   "metadata": {},
   "source": [
    "### Split rows by target columns on strict and fuzzy classes"
   ]
  },
  {
   "cell_type": "code",
   "execution_count": 7,
   "metadata": {
    "ExecuteTime": {
     "end_time": "2021-01-12T23:25:22.899941Z",
     "start_time": "2021-01-12T23:25:22.880500Z"
    }
   },
   "outputs": [],
   "source": [
    "target_tags = PROJECT_PATHS.ENG_TAGS"
   ]
  },
  {
   "cell_type": "code",
   "execution_count": 76,
   "metadata": {
    "ExecuteTime": {
     "end_time": "2021-01-13T00:13:19.511906Z",
     "start_time": "2021-01-13T00:13:19.442302Z"
    }
   },
   "outputs": [
    {
     "data": {
      "text/plain": [
       "politics         10005\n",
       "humour            9998\n",
       "help             10002\n",
       "children         10002\n",
       "relationships    10000\n",
       "coronavirus       5572\n",
       "poetry            9999\n",
       "job               9998\n",
       "history          10006\n",
       "ukraine           9998\n",
       "dtype: int64"
      ]
     },
     "execution_count": 76,
     "metadata": {},
     "output_type": "execute_result"
    }
   ],
   "source": [
    "df[target_tags].sum(axis=0)"
   ]
  },
  {
   "cell_type": "markdown",
   "metadata": {},
   "source": [
    "### Remove urls"
   ]
  },
  {
   "cell_type": "code",
   "execution_count": 77,
   "metadata": {
    "ExecuteTime": {
     "end_time": "2021-01-12T23:16:34.957876Z",
     "start_time": "2021-01-12T23:16:34.890108Z"
    }
   },
   "outputs": [
    {
     "data": {
      "text/plain": [
       "2495.91053567692"
      ]
     },
     "execution_count": 77,
     "metadata": {},
     "output_type": "execute_result"
    }
   ],
   "source": [
    "df[\"TEXT\"].str.len().mean()"
   ]
  },
  {
   "cell_type": "code",
   "execution_count": 78,
   "metadata": {
    "ExecuteTime": {
     "end_time": "2021-01-12T23:16:46.139035Z",
     "start_time": "2021-01-12T23:16:35.943061Z"
    }
   },
   "outputs": [
    {
     "name": "stdout",
     "output_type": "stream",
     "text": [
      "\n",
      "-----------------------------------------------\n",
      "            Remove urls\n"
     ]
    }
   ],
   "source": [
    "remove_urls(df)"
   ]
  },
  {
   "cell_type": "code",
   "execution_count": 79,
   "metadata": {
    "ExecuteTime": {
     "end_time": "2021-01-12T23:16:46.195220Z",
     "start_time": "2021-01-12T23:16:46.140464Z"
    }
   },
   "outputs": [
    {
     "data": {
      "text/plain": [
       "2492.611770244821"
      ]
     },
     "execution_count": 79,
     "metadata": {},
     "output_type": "execute_result"
    }
   ],
   "source": [
    "df[\"TEXT\"].str.len().mean()"
   ]
  },
  {
   "cell_type": "markdown",
   "metadata": {},
   "source": [
    "### Remove punctuation"
   ]
  },
  {
   "cell_type": "code",
   "execution_count": 80,
   "metadata": {
    "ExecuteTime": {
     "end_time": "2021-01-12T23:16:46.214522Z",
     "start_time": "2021-01-12T23:16:46.198063Z"
    }
   },
   "outputs": [],
   "source": [
    "df[\"TEXT_PUNCT\"] = df[\"TEXT\"].copy()\n",
    "df[\"TITLE_PUNCT\"] = df[\"TITLE\"].copy()"
   ]
  },
  {
   "cell_type": "code",
   "execution_count": 81,
   "metadata": {
    "ExecuteTime": {
     "end_time": "2021-01-12T23:16:48.640937Z",
     "start_time": "2021-01-12T23:16:46.217013Z"
    }
   },
   "outputs": [
    {
     "name": "stdout",
     "output_type": "stream",
     "text": [
      "\n",
      "-----------------------------------------------\n",
      "            Remove punctuation\n"
     ]
    }
   ],
   "source": [
    "remove_punctuation(df, \"TEXT\")"
   ]
  },
  {
   "cell_type": "code",
   "execution_count": 82,
   "metadata": {
    "ExecuteTime": {
     "end_time": "2021-01-12T23:16:48.698056Z",
     "start_time": "2021-01-12T23:16:48.642684Z"
    }
   },
   "outputs": [
    {
     "data": {
      "text/plain": [
       "2482.545794099184"
      ]
     },
     "execution_count": 82,
     "metadata": {},
     "output_type": "execute_result"
    }
   ],
   "source": [
    "df[\"TEXT\"].str.len().mean()"
   ]
  },
  {
   "cell_type": "code",
   "execution_count": 83,
   "metadata": {
    "ExecuteTime": {
     "end_time": "2021-01-12T23:16:48.811556Z",
     "start_time": "2021-01-12T23:16:48.699975Z"
    }
   },
   "outputs": [
    {
     "data": {
      "text/plain": [
       "33.39497802887633"
      ]
     },
     "execution_count": 83,
     "metadata": {},
     "output_type": "execute_result"
    }
   ],
   "source": [
    "df[\"TITLE\"].str.len().mean()"
   ]
  },
  {
   "cell_type": "code",
   "execution_count": 84,
   "metadata": {
    "ExecuteTime": {
     "end_time": "2021-01-12T23:16:48.938765Z",
     "start_time": "2021-01-12T23:16:48.813031Z"
    }
   },
   "outputs": [
    {
     "name": "stdout",
     "output_type": "stream",
     "text": [
      "\n",
      "-----------------------------------------------\n",
      "            Remove punctuation\n"
     ]
    }
   ],
   "source": [
    "remove_punctuation(df, 'TITLE')"
   ]
  },
  {
   "cell_type": "code",
   "execution_count": 85,
   "metadata": {
    "ExecuteTime": {
     "end_time": "2021-01-12T23:16:48.977304Z",
     "start_time": "2021-01-12T23:16:48.941100Z"
    }
   },
   "outputs": [
    {
     "data": {
      "text/plain": [
       "33.182684662063195"
      ]
     },
     "execution_count": 85,
     "metadata": {},
     "output_type": "execute_result"
    }
   ],
   "source": [
    "df[\"TITLE\"].str.len().mean()"
   ]
  },
  {
   "cell_type": "markdown",
   "metadata": {},
   "source": [
    "### Apply lower case"
   ]
  },
  {
   "cell_type": "code",
   "execution_count": 86,
   "metadata": {
    "ExecuteTime": {
     "end_time": "2021-01-12T23:16:49.593153Z",
     "start_time": "2021-01-12T23:16:48.978834Z"
    }
   },
   "outputs": [],
   "source": [
    "df[\"TEXT\"] = df['TEXT'].str.lower()\n",
    "df['TEXT_PUNCT'] = df['TEXT_PUNCT'].str.lower()"
   ]
  },
  {
   "cell_type": "code",
   "execution_count": 87,
   "metadata": {
    "ExecuteTime": {
     "end_time": "2021-01-12T23:16:50.780043Z",
     "start_time": "2021-01-12T23:16:50.730673Z"
    }
   },
   "outputs": [],
   "source": [
    "df.drop(columns=['VIEWS'], inplace=True)"
   ]
  },
  {
   "cell_type": "code",
   "execution_count": 88,
   "metadata": {},
   "outputs": [
    {
     "data": {
      "text/html": [
       "<div>\n",
       "<style scoped>\n",
       "    .dataframe tbody tr th:only-of-type {\n",
       "        vertical-align: middle;\n",
       "    }\n",
       "\n",
       "    .dataframe tbody tr th {\n",
       "        vertical-align: top;\n",
       "    }\n",
       "\n",
       "    .dataframe thead th {\n",
       "        text-align: right;\n",
       "    }\n",
       "</style>\n",
       "<table border=\"1\" class=\"dataframe\">\n",
       "  <thead>\n",
       "    <tr style=\"text-align: right;\">\n",
       "      <th></th>\n",
       "      <th>TITLE</th>\n",
       "      <th>LIKES</th>\n",
       "      <th>TEXT</th>\n",
       "      <th>TAGS</th>\n",
       "      <th>COMMENTS</th>\n",
       "      <th>NICKNAME</th>\n",
       "      <th>TIME_GAP</th>\n",
       "      <th>TIMESTAMP</th>\n",
       "      <th>CURRENT_TIMESTAMP</th>\n",
       "      <th>politics</th>\n",
       "      <th>...</th>\n",
       "      <th>help</th>\n",
       "      <th>children</th>\n",
       "      <th>relationships</th>\n",
       "      <th>coronavirus</th>\n",
       "      <th>poetry</th>\n",
       "      <th>job</th>\n",
       "      <th>history</th>\n",
       "      <th>ukraine</th>\n",
       "      <th>TEXT_PUNCT</th>\n",
       "      <th>TITLE_PUNCT</th>\n",
       "    </tr>\n",
       "  </thead>\n",
       "  <tbody>\n",
       "    <tr>\n",
       "      <th>0</th>\n",
       "      <td>МВД разработало правила отправки пьяных россия...</td>\n",
       "      <td>NaN</td>\n",
       "      <td>мвд россии разработало порядок доставления нет...</td>\n",
       "      <td>['Полиция', 'Вытрезвитель', 'Опьянение', 'Прое...</td>\n",
       "      <td>50</td>\n",
       "      <td>Kanedias</td>\n",
       "      <td>2 месяца назад</td>\n",
       "      <td>2021-02-20T22:55:57+03:00</td>\n",
       "      <td>1.620672e+09</td>\n",
       "      <td>1</td>\n",
       "      <td>...</td>\n",
       "      <td>0</td>\n",
       "      <td>0</td>\n",
       "      <td>0</td>\n",
       "      <td>0</td>\n",
       "      <td>0</td>\n",
       "      <td>0</td>\n",
       "      <td>0</td>\n",
       "      <td>0</td>\n",
       "      <td>мвд россии разработало порядок доставления нет...</td>\n",
       "      <td>МВД разработало правила отправки пьяных россия...</td>\n",
       "    </tr>\n",
       "    <tr>\n",
       "      <th>1</th>\n",
       "      <td>Ответ на пост « Геноцид 1933 года  на страница...</td>\n",
       "      <td>-39.0</td>\n",
       "      <td>а что вы хотите  национализм и шовинизм  в том...</td>\n",
       "      <td>['[моё]', 'Политика', 'Голод', 'Голодомор', 'У...</td>\n",
       "      <td>152</td>\n",
       "      <td>CultDeadCow</td>\n",
       "      <td>2 месяца назад</td>\n",
       "      <td>2021-02-20T18:44:21+03:00</td>\n",
       "      <td>1.620672e+09</td>\n",
       "      <td>1</td>\n",
       "      <td>...</td>\n",
       "      <td>0</td>\n",
       "      <td>0</td>\n",
       "      <td>0</td>\n",
       "      <td>0</td>\n",
       "      <td>0</td>\n",
       "      <td>0</td>\n",
       "      <td>0</td>\n",
       "      <td>0</td>\n",
       "      <td>а что вы хотите? национализм и шовинизм, в том...</td>\n",
       "      <td>Ответ на пост «\"Геноцид 1933 года\" на страница...</td>\n",
       "    </tr>\n",
       "    <tr>\n",
       "      <th>2</th>\n",
       "      <td>Сахалинский депутат лишился мандата из за виде...</td>\n",
       "      <td>186.0</td>\n",
       "      <td>депутаты томаринского городского округа  юг са...</td>\n",
       "      <td>['[моё]', 'Новости', 'Политика', 'Скандал', 'С...</td>\n",
       "      <td>30</td>\n",
       "      <td>TASSagency</td>\n",
       "      <td>2 месяца назад</td>\n",
       "      <td>2021-02-20T12:57:10+03:00</td>\n",
       "      <td>1.620672e+09</td>\n",
       "      <td>1</td>\n",
       "      <td>...</td>\n",
       "      <td>0</td>\n",
       "      <td>0</td>\n",
       "      <td>0</td>\n",
       "      <td>0</td>\n",
       "      <td>0</td>\n",
       "      <td>0</td>\n",
       "      <td>0</td>\n",
       "      <td>0</td>\n",
       "      <td>депутаты томаринского городского округа (юг са...</td>\n",
       "      <td>Сахалинский депутат лишился мандата из-за виде...</td>\n",
       "    </tr>\n",
       "    <tr>\n",
       "      <th>3</th>\n",
       "      <td>Рогозин отчитался Путину об успехах «Роскосмоса»</td>\n",
       "      <td>48.0</td>\n",
       "      <td>глава «роскосмоса» дмитрий рогозин на встрече ...</td>\n",
       "      <td>['Дмитрий Рогозин', 'Новости', 'Политика', 'Ко...</td>\n",
       "      <td>33</td>\n",
       "      <td>ElonMuskSpaceX</td>\n",
       "      <td>2 месяца назад</td>\n",
       "      <td>2021-02-20T12:34:19+03:00</td>\n",
       "      <td>1.620672e+09</td>\n",
       "      <td>1</td>\n",
       "      <td>...</td>\n",
       "      <td>0</td>\n",
       "      <td>0</td>\n",
       "      <td>0</td>\n",
       "      <td>0</td>\n",
       "      <td>0</td>\n",
       "      <td>0</td>\n",
       "      <td>0</td>\n",
       "      <td>0</td>\n",
       "      <td>глава «роскосмоса» дмитрий рогозин на встрече ...</td>\n",
       "      <td>Рогозин отчитался Путину об успехах «Роскосмоса»</td>\n",
       "    </tr>\n",
       "    <tr>\n",
       "      <th>4</th>\n",
       "      <td>Москва ждет реакцию Лондона на утечку данных о...</td>\n",
       "      <td>27.0</td>\n",
       "      <td>москва  20 февраля   тасс  рф ждет реакцию вел...</td>\n",
       "      <td>['Мария Захарова', 'Политика', 'Великобритания...</td>\n",
       "      <td>57</td>\n",
       "      <td>rug178</td>\n",
       "      <td>2 месяца назад</td>\n",
       "      <td>2021-02-20T12:07:30+03:00</td>\n",
       "      <td>1.620672e+09</td>\n",
       "      <td>1</td>\n",
       "      <td>...</td>\n",
       "      <td>0</td>\n",
       "      <td>0</td>\n",
       "      <td>0</td>\n",
       "      <td>0</td>\n",
       "      <td>0</td>\n",
       "      <td>0</td>\n",
       "      <td>0</td>\n",
       "      <td>0</td>\n",
       "      <td>москва, 20 февраля. /тасс/. рф ждет реакцию ве...</td>\n",
       "      <td>Москва ждет реакцию Лондона на утечку данных о...</td>\n",
       "    </tr>\n",
       "  </tbody>\n",
       "</table>\n",
       "<p>5 rows × 21 columns</p>\n",
       "</div>"
      ],
      "text/plain": [
       "                                               TITLE  LIKES  \\\n",
       "0  МВД разработало правила отправки пьяных россия...    NaN   \n",
       "1  Ответ на пост « Геноцид 1933 года  на страница...  -39.0   \n",
       "2  Сахалинский депутат лишился мандата из за виде...  186.0   \n",
       "3   Рогозин отчитался Путину об успехах «Роскосмоса»   48.0   \n",
       "4  Москва ждет реакцию Лондона на утечку данных о...   27.0   \n",
       "\n",
       "                                                TEXT  \\\n",
       "0  мвд россии разработало порядок доставления нет...   \n",
       "1  а что вы хотите  национализм и шовинизм  в том...   \n",
       "2  депутаты томаринского городского округа  юг са...   \n",
       "3  глава «роскосмоса» дмитрий рогозин на встрече ...   \n",
       "4  москва  20 февраля   тасс  рф ждет реакцию вел...   \n",
       "\n",
       "                                                TAGS  COMMENTS  \\\n",
       "0  ['Полиция', 'Вытрезвитель', 'Опьянение', 'Прое...        50   \n",
       "1  ['[моё]', 'Политика', 'Голод', 'Голодомор', 'У...       152   \n",
       "2  ['[моё]', 'Новости', 'Политика', 'Скандал', 'С...        30   \n",
       "3  ['Дмитрий Рогозин', 'Новости', 'Политика', 'Ко...        33   \n",
       "4  ['Мария Захарова', 'Политика', 'Великобритания...        57   \n",
       "\n",
       "         NICKNAME        TIME_GAP                  TIMESTAMP  \\\n",
       "0        Kanedias  2 месяца назад  2021-02-20T22:55:57+03:00   \n",
       "1     CultDeadCow  2 месяца назад  2021-02-20T18:44:21+03:00   \n",
       "2      TASSagency  2 месяца назад  2021-02-20T12:57:10+03:00   \n",
       "3  ElonMuskSpaceX  2 месяца назад  2021-02-20T12:34:19+03:00   \n",
       "4          rug178  2 месяца назад  2021-02-20T12:07:30+03:00   \n",
       "\n",
       "   CURRENT_TIMESTAMP  politics  ...  help  children  relationships  \\\n",
       "0       1.620672e+09         1  ...     0         0              0   \n",
       "1       1.620672e+09         1  ...     0         0              0   \n",
       "2       1.620672e+09         1  ...     0         0              0   \n",
       "3       1.620672e+09         1  ...     0         0              0   \n",
       "4       1.620672e+09         1  ...     0         0              0   \n",
       "\n",
       "   coronavirus  poetry  job  history  ukraine  \\\n",
       "0            0       0    0        0        0   \n",
       "1            0       0    0        0        0   \n",
       "2            0       0    0        0        0   \n",
       "3            0       0    0        0        0   \n",
       "4            0       0    0        0        0   \n",
       "\n",
       "                                          TEXT_PUNCT  \\\n",
       "0  мвд россии разработало порядок доставления нет...   \n",
       "1  а что вы хотите? национализм и шовинизм, в том...   \n",
       "2  депутаты томаринского городского округа (юг са...   \n",
       "3  глава «роскосмоса» дмитрий рогозин на встрече ...   \n",
       "4  москва, 20 февраля. /тасс/. рф ждет реакцию ве...   \n",
       "\n",
       "                                         TITLE_PUNCT  \n",
       "0  МВД разработало правила отправки пьяных россия...  \n",
       "1  Ответ на пост «\"Геноцид 1933 года\" на страница...  \n",
       "2  Сахалинский депутат лишился мандата из-за виде...  \n",
       "3   Рогозин отчитался Путину об успехах «Роскосмоса»  \n",
       "4  Москва ждет реакцию Лондона на утечку данных о...  \n",
       "\n",
       "[5 rows x 21 columns]"
      ]
     },
     "execution_count": 88,
     "metadata": {},
     "output_type": "execute_result"
    }
   ],
   "source": [
    "df.head()"
   ]
  },
  {
   "cell_type": "markdown",
   "metadata": {},
   "source": [
    "### Add target column"
   ]
  },
  {
   "cell_type": "code",
   "execution_count": 8,
   "metadata": {},
   "outputs": [
    {
     "data": {
      "text/plain": [
       "[(0, 'children'),\n",
       " (1, 'coronavirus'),\n",
       " (2, 'help'),\n",
       " (3, 'history'),\n",
       " (4, 'humour'),\n",
       " (5, 'job'),\n",
       " (6, 'poetry'),\n",
       " (7, 'politics'),\n",
       " (8, 'relationships'),\n",
       " (9, 'ukraine')]"
      ]
     },
     "execution_count": 8,
     "metadata": {},
     "output_type": "execute_result"
    }
   ],
   "source": [
    "numered_tags = list(enumerate(sorted(target_tags)))\n",
    "df['target'] = sum([df[tag].map(lambda z: x if z else 0) for x, tag in numered_tags])\n",
    "numered_tags"
   ]
  },
  {
   "cell_type": "code",
   "execution_count": 90,
   "metadata": {
    "ExecuteTime": {
     "end_time": "2021-01-13T00:19:23.548984Z",
     "start_time": "2021-01-13T00:19:23.485587Z"
    }
   },
   "outputs": [
    {
     "data": {
      "text/html": [
       "<div>\n",
       "<style scoped>\n",
       "    .dataframe tbody tr th:only-of-type {\n",
       "        vertical-align: middle;\n",
       "    }\n",
       "\n",
       "    .dataframe tbody tr th {\n",
       "        vertical-align: top;\n",
       "    }\n",
       "\n",
       "    .dataframe thead th {\n",
       "        text-align: right;\n",
       "    }\n",
       "</style>\n",
       "<table border=\"1\" class=\"dataframe\">\n",
       "  <thead>\n",
       "    <tr style=\"text-align: right;\">\n",
       "      <th></th>\n",
       "      <th>TITLE</th>\n",
       "      <th>LIKES</th>\n",
       "      <th>TEXT</th>\n",
       "      <th>TAGS</th>\n",
       "      <th>COMMENTS</th>\n",
       "      <th>NICKNAME</th>\n",
       "      <th>TIME_GAP</th>\n",
       "      <th>TIMESTAMP</th>\n",
       "      <th>CURRENT_TIMESTAMP</th>\n",
       "      <th>politics</th>\n",
       "      <th>...</th>\n",
       "      <th>children</th>\n",
       "      <th>relationships</th>\n",
       "      <th>coronavirus</th>\n",
       "      <th>poetry</th>\n",
       "      <th>job</th>\n",
       "      <th>history</th>\n",
       "      <th>ukraine</th>\n",
       "      <th>TEXT_PUNCT</th>\n",
       "      <th>TITLE_PUNCT</th>\n",
       "      <th>target</th>\n",
       "    </tr>\n",
       "  </thead>\n",
       "  <tbody>\n",
       "    <tr>\n",
       "      <th>0</th>\n",
       "      <td>МВД разработало правила отправки пьяных россия...</td>\n",
       "      <td>NaN</td>\n",
       "      <td>мвд россии разработало порядок доставления нет...</td>\n",
       "      <td>['Полиция', 'Вытрезвитель', 'Опьянение', 'Прое...</td>\n",
       "      <td>50</td>\n",
       "      <td>Kanedias</td>\n",
       "      <td>2 месяца назад</td>\n",
       "      <td>2021-02-20T22:55:57+03:00</td>\n",
       "      <td>1.620672e+09</td>\n",
       "      <td>1</td>\n",
       "      <td>...</td>\n",
       "      <td>0</td>\n",
       "      <td>0</td>\n",
       "      <td>0</td>\n",
       "      <td>0</td>\n",
       "      <td>0</td>\n",
       "      <td>0</td>\n",
       "      <td>0</td>\n",
       "      <td>мвд россии разработало порядок доставления нет...</td>\n",
       "      <td>МВД разработало правила отправки пьяных россия...</td>\n",
       "      <td>7</td>\n",
       "    </tr>\n",
       "    <tr>\n",
       "      <th>1</th>\n",
       "      <td>Ответ на пост « Геноцид 1933 года  на страница...</td>\n",
       "      <td>-39.0</td>\n",
       "      <td>а что вы хотите  национализм и шовинизм  в том...</td>\n",
       "      <td>['[моё]', 'Политика', 'Голод', 'Голодомор', 'У...</td>\n",
       "      <td>152</td>\n",
       "      <td>CultDeadCow</td>\n",
       "      <td>2 месяца назад</td>\n",
       "      <td>2021-02-20T18:44:21+03:00</td>\n",
       "      <td>1.620672e+09</td>\n",
       "      <td>1</td>\n",
       "      <td>...</td>\n",
       "      <td>0</td>\n",
       "      <td>0</td>\n",
       "      <td>0</td>\n",
       "      <td>0</td>\n",
       "      <td>0</td>\n",
       "      <td>0</td>\n",
       "      <td>0</td>\n",
       "      <td>а что вы хотите? национализм и шовинизм, в том...</td>\n",
       "      <td>Ответ на пост «\"Геноцид 1933 года\" на страница...</td>\n",
       "      <td>7</td>\n",
       "    </tr>\n",
       "    <tr>\n",
       "      <th>2</th>\n",
       "      <td>Сахалинский депутат лишился мандата из за виде...</td>\n",
       "      <td>186.0</td>\n",
       "      <td>депутаты томаринского городского округа  юг са...</td>\n",
       "      <td>['[моё]', 'Новости', 'Политика', 'Скандал', 'С...</td>\n",
       "      <td>30</td>\n",
       "      <td>TASSagency</td>\n",
       "      <td>2 месяца назад</td>\n",
       "      <td>2021-02-20T12:57:10+03:00</td>\n",
       "      <td>1.620672e+09</td>\n",
       "      <td>1</td>\n",
       "      <td>...</td>\n",
       "      <td>0</td>\n",
       "      <td>0</td>\n",
       "      <td>0</td>\n",
       "      <td>0</td>\n",
       "      <td>0</td>\n",
       "      <td>0</td>\n",
       "      <td>0</td>\n",
       "      <td>депутаты томаринского городского округа (юг са...</td>\n",
       "      <td>Сахалинский депутат лишился мандата из-за виде...</td>\n",
       "      <td>7</td>\n",
       "    </tr>\n",
       "    <tr>\n",
       "      <th>3</th>\n",
       "      <td>Рогозин отчитался Путину об успехах «Роскосмоса»</td>\n",
       "      <td>48.0</td>\n",
       "      <td>глава «роскосмоса» дмитрий рогозин на встрече ...</td>\n",
       "      <td>['Дмитрий Рогозин', 'Новости', 'Политика', 'Ко...</td>\n",
       "      <td>33</td>\n",
       "      <td>ElonMuskSpaceX</td>\n",
       "      <td>2 месяца назад</td>\n",
       "      <td>2021-02-20T12:34:19+03:00</td>\n",
       "      <td>1.620672e+09</td>\n",
       "      <td>1</td>\n",
       "      <td>...</td>\n",
       "      <td>0</td>\n",
       "      <td>0</td>\n",
       "      <td>0</td>\n",
       "      <td>0</td>\n",
       "      <td>0</td>\n",
       "      <td>0</td>\n",
       "      <td>0</td>\n",
       "      <td>глава «роскосмоса» дмитрий рогозин на встрече ...</td>\n",
       "      <td>Рогозин отчитался Путину об успехах «Роскосмоса»</td>\n",
       "      <td>7</td>\n",
       "    </tr>\n",
       "    <tr>\n",
       "      <th>4</th>\n",
       "      <td>Москва ждет реакцию Лондона на утечку данных о...</td>\n",
       "      <td>27.0</td>\n",
       "      <td>москва  20 февраля   тасс  рф ждет реакцию вел...</td>\n",
       "      <td>['Мария Захарова', 'Политика', 'Великобритания...</td>\n",
       "      <td>57</td>\n",
       "      <td>rug178</td>\n",
       "      <td>2 месяца назад</td>\n",
       "      <td>2021-02-20T12:07:30+03:00</td>\n",
       "      <td>1.620672e+09</td>\n",
       "      <td>1</td>\n",
       "      <td>...</td>\n",
       "      <td>0</td>\n",
       "      <td>0</td>\n",
       "      <td>0</td>\n",
       "      <td>0</td>\n",
       "      <td>0</td>\n",
       "      <td>0</td>\n",
       "      <td>0</td>\n",
       "      <td>москва, 20 февраля. /тасс/. рф ждет реакцию ве...</td>\n",
       "      <td>Москва ждет реакцию Лондона на утечку данных о...</td>\n",
       "      <td>7</td>\n",
       "    </tr>\n",
       "  </tbody>\n",
       "</table>\n",
       "<p>5 rows × 22 columns</p>\n",
       "</div>"
      ],
      "text/plain": [
       "                                               TITLE  LIKES  \\\n",
       "0  МВД разработало правила отправки пьяных россия...    NaN   \n",
       "1  Ответ на пост « Геноцид 1933 года  на страница...  -39.0   \n",
       "2  Сахалинский депутат лишился мандата из за виде...  186.0   \n",
       "3   Рогозин отчитался Путину об успехах «Роскосмоса»   48.0   \n",
       "4  Москва ждет реакцию Лондона на утечку данных о...   27.0   \n",
       "\n",
       "                                                TEXT  \\\n",
       "0  мвд россии разработало порядок доставления нет...   \n",
       "1  а что вы хотите  национализм и шовинизм  в том...   \n",
       "2  депутаты томаринского городского округа  юг са...   \n",
       "3  глава «роскосмоса» дмитрий рогозин на встрече ...   \n",
       "4  москва  20 февраля   тасс  рф ждет реакцию вел...   \n",
       "\n",
       "                                                TAGS  COMMENTS  \\\n",
       "0  ['Полиция', 'Вытрезвитель', 'Опьянение', 'Прое...        50   \n",
       "1  ['[моё]', 'Политика', 'Голод', 'Голодомор', 'У...       152   \n",
       "2  ['[моё]', 'Новости', 'Политика', 'Скандал', 'С...        30   \n",
       "3  ['Дмитрий Рогозин', 'Новости', 'Политика', 'Ко...        33   \n",
       "4  ['Мария Захарова', 'Политика', 'Великобритания...        57   \n",
       "\n",
       "         NICKNAME        TIME_GAP                  TIMESTAMP  \\\n",
       "0        Kanedias  2 месяца назад  2021-02-20T22:55:57+03:00   \n",
       "1     CultDeadCow  2 месяца назад  2021-02-20T18:44:21+03:00   \n",
       "2      TASSagency  2 месяца назад  2021-02-20T12:57:10+03:00   \n",
       "3  ElonMuskSpaceX  2 месяца назад  2021-02-20T12:34:19+03:00   \n",
       "4          rug178  2 месяца назад  2021-02-20T12:07:30+03:00   \n",
       "\n",
       "   CURRENT_TIMESTAMP  politics  ...  children  relationships  coronavirus  \\\n",
       "0       1.620672e+09         1  ...         0              0            0   \n",
       "1       1.620672e+09         1  ...         0              0            0   \n",
       "2       1.620672e+09         1  ...         0              0            0   \n",
       "3       1.620672e+09         1  ...         0              0            0   \n",
       "4       1.620672e+09         1  ...         0              0            0   \n",
       "\n",
       "   poetry  job  history  ukraine  \\\n",
       "0       0    0        0        0   \n",
       "1       0    0        0        0   \n",
       "2       0    0        0        0   \n",
       "3       0    0        0        0   \n",
       "4       0    0        0        0   \n",
       "\n",
       "                                          TEXT_PUNCT  \\\n",
       "0  мвд россии разработало порядок доставления нет...   \n",
       "1  а что вы хотите? национализм и шовинизм, в том...   \n",
       "2  депутаты томаринского городского округа (юг са...   \n",
       "3  глава «роскосмоса» дмитрий рогозин на встрече ...   \n",
       "4  москва, 20 февраля. /тасс/. рф ждет реакцию ве...   \n",
       "\n",
       "                                         TITLE_PUNCT target  \n",
       "0  МВД разработало правила отправки пьяных россия...      7  \n",
       "1  Ответ на пост «\"Геноцид 1933 года\" на страница...      7  \n",
       "2  Сахалинский депутат лишился мандата из-за виде...      7  \n",
       "3   Рогозин отчитался Путину об успехах «Роскосмоса»      7  \n",
       "4  Москва ждет реакцию Лондона на утечку данных о...      7  \n",
       "\n",
       "[5 rows x 22 columns]"
      ]
     },
     "execution_count": 90,
     "metadata": {},
     "output_type": "execute_result"
    }
   ],
   "source": [
    "df.head()"
   ]
  },
  {
   "cell_type": "code",
   "execution_count": 91,
   "metadata": {
    "ExecuteTime": {
     "end_time": "2021-01-13T00:13:21.770593Z",
     "start_time": "2021-01-13T00:13:21.717853Z"
    }
   },
   "outputs": [
    {
     "data": {
      "text/plain": [
       "politics         10005\n",
       "humour            9998\n",
       "help             10002\n",
       "children         10002\n",
       "relationships    10000\n",
       "coronavirus       5572\n",
       "poetry            9999\n",
       "job               9998\n",
       "history          10006\n",
       "ukraine           9998\n",
       "dtype: int64"
      ]
     },
     "execution_count": 91,
     "metadata": {},
     "output_type": "execute_result"
    }
   ],
   "source": [
    "df[target_tags].sum(axis=0)"
   ]
  },
  {
   "cell_type": "code",
   "execution_count": 92,
   "metadata": {},
   "outputs": [
    {
     "data": {
      "text/plain": [
       "target\n",
       "0    10002\n",
       "1     5572\n",
       "2    10002\n",
       "3    10006\n",
       "4     9998\n",
       "5     9998\n",
       "6     9999\n",
       "7    10005\n",
       "8    10000\n",
       "9     9998\n",
       "Name: target, dtype: int64"
      ]
     },
     "execution_count": 92,
     "metadata": {},
     "output_type": "execute_result"
    }
   ],
   "source": [
    "df.groupby('target')['target'].count()"
   ]
  },
  {
   "cell_type": "code",
   "execution_count": 93,
   "metadata": {
    "ExecuteTime": {
     "end_time": "2021-01-13T00:20:26.811665Z",
     "start_time": "2021-01-13T00:20:26.785636Z"
    }
   },
   "outputs": [],
   "source": [
    "for x in target_tags:\n",
    "    del df[x]"
   ]
  },
  {
   "cell_type": "code",
   "execution_count": 94,
   "metadata": {
    "ExecuteTime": {
     "end_time": "2021-01-13T00:20:31.942838Z",
     "start_time": "2021-01-13T00:20:31.827928Z"
    }
   },
   "outputs": [
    {
     "data": {
      "text/html": [
       "<div>\n",
       "<style scoped>\n",
       "    .dataframe tbody tr th:only-of-type {\n",
       "        vertical-align: middle;\n",
       "    }\n",
       "\n",
       "    .dataframe tbody tr th {\n",
       "        vertical-align: top;\n",
       "    }\n",
       "\n",
       "    .dataframe thead th {\n",
       "        text-align: right;\n",
       "    }\n",
       "</style>\n",
       "<table border=\"1\" class=\"dataframe\">\n",
       "  <thead>\n",
       "    <tr style=\"text-align: right;\">\n",
       "      <th></th>\n",
       "      <th>TITLE</th>\n",
       "      <th>LIKES</th>\n",
       "      <th>TEXT</th>\n",
       "      <th>TAGS</th>\n",
       "      <th>COMMENTS</th>\n",
       "      <th>NICKNAME</th>\n",
       "      <th>TIME_GAP</th>\n",
       "      <th>TIMESTAMP</th>\n",
       "      <th>CURRENT_TIMESTAMP</th>\n",
       "      <th>TEXT_PUNCT</th>\n",
       "      <th>TITLE_PUNCT</th>\n",
       "      <th>target</th>\n",
       "    </tr>\n",
       "  </thead>\n",
       "  <tbody>\n",
       "    <tr>\n",
       "      <th>0</th>\n",
       "      <td>МВД разработало правила отправки пьяных россия...</td>\n",
       "      <td>NaN</td>\n",
       "      <td>мвд россии разработало порядок доставления нет...</td>\n",
       "      <td>['Полиция', 'Вытрезвитель', 'Опьянение', 'Прое...</td>\n",
       "      <td>50</td>\n",
       "      <td>Kanedias</td>\n",
       "      <td>2 месяца назад</td>\n",
       "      <td>2021-02-20T22:55:57+03:00</td>\n",
       "      <td>1.620672e+09</td>\n",
       "      <td>мвд россии разработало порядок доставления нет...</td>\n",
       "      <td>МВД разработало правила отправки пьяных россия...</td>\n",
       "      <td>7</td>\n",
       "    </tr>\n",
       "    <tr>\n",
       "      <th>1</th>\n",
       "      <td>Ответ на пост « Геноцид 1933 года  на страница...</td>\n",
       "      <td>-39.0</td>\n",
       "      <td>а что вы хотите  национализм и шовинизм  в том...</td>\n",
       "      <td>['[моё]', 'Политика', 'Голод', 'Голодомор', 'У...</td>\n",
       "      <td>152</td>\n",
       "      <td>CultDeadCow</td>\n",
       "      <td>2 месяца назад</td>\n",
       "      <td>2021-02-20T18:44:21+03:00</td>\n",
       "      <td>1.620672e+09</td>\n",
       "      <td>а что вы хотите? национализм и шовинизм, в том...</td>\n",
       "      <td>Ответ на пост «\"Геноцид 1933 года\" на страница...</td>\n",
       "      <td>7</td>\n",
       "    </tr>\n",
       "    <tr>\n",
       "      <th>2</th>\n",
       "      <td>Сахалинский депутат лишился мандата из за виде...</td>\n",
       "      <td>186.0</td>\n",
       "      <td>депутаты томаринского городского округа  юг са...</td>\n",
       "      <td>['[моё]', 'Новости', 'Политика', 'Скандал', 'С...</td>\n",
       "      <td>30</td>\n",
       "      <td>TASSagency</td>\n",
       "      <td>2 месяца назад</td>\n",
       "      <td>2021-02-20T12:57:10+03:00</td>\n",
       "      <td>1.620672e+09</td>\n",
       "      <td>депутаты томаринского городского округа (юг са...</td>\n",
       "      <td>Сахалинский депутат лишился мандата из-за виде...</td>\n",
       "      <td>7</td>\n",
       "    </tr>\n",
       "    <tr>\n",
       "      <th>3</th>\n",
       "      <td>Рогозин отчитался Путину об успехах «Роскосмоса»</td>\n",
       "      <td>48.0</td>\n",
       "      <td>глава «роскосмоса» дмитрий рогозин на встрече ...</td>\n",
       "      <td>['Дмитрий Рогозин', 'Новости', 'Политика', 'Ко...</td>\n",
       "      <td>33</td>\n",
       "      <td>ElonMuskSpaceX</td>\n",
       "      <td>2 месяца назад</td>\n",
       "      <td>2021-02-20T12:34:19+03:00</td>\n",
       "      <td>1.620672e+09</td>\n",
       "      <td>глава «роскосмоса» дмитрий рогозин на встрече ...</td>\n",
       "      <td>Рогозин отчитался Путину об успехах «Роскосмоса»</td>\n",
       "      <td>7</td>\n",
       "    </tr>\n",
       "    <tr>\n",
       "      <th>4</th>\n",
       "      <td>Москва ждет реакцию Лондона на утечку данных о...</td>\n",
       "      <td>27.0</td>\n",
       "      <td>москва  20 февраля   тасс  рф ждет реакцию вел...</td>\n",
       "      <td>['Мария Захарова', 'Политика', 'Великобритания...</td>\n",
       "      <td>57</td>\n",
       "      <td>rug178</td>\n",
       "      <td>2 месяца назад</td>\n",
       "      <td>2021-02-20T12:07:30+03:00</td>\n",
       "      <td>1.620672e+09</td>\n",
       "      <td>москва, 20 февраля. /тасс/. рф ждет реакцию ве...</td>\n",
       "      <td>Москва ждет реакцию Лондона на утечку данных о...</td>\n",
       "      <td>7</td>\n",
       "    </tr>\n",
       "  </tbody>\n",
       "</table>\n",
       "</div>"
      ],
      "text/plain": [
       "                                               TITLE  LIKES  \\\n",
       "0  МВД разработало правила отправки пьяных россия...    NaN   \n",
       "1  Ответ на пост « Геноцид 1933 года  на страница...  -39.0   \n",
       "2  Сахалинский депутат лишился мандата из за виде...  186.0   \n",
       "3   Рогозин отчитался Путину об успехах «Роскосмоса»   48.0   \n",
       "4  Москва ждет реакцию Лондона на утечку данных о...   27.0   \n",
       "\n",
       "                                                TEXT  \\\n",
       "0  мвд россии разработало порядок доставления нет...   \n",
       "1  а что вы хотите  национализм и шовинизм  в том...   \n",
       "2  депутаты томаринского городского округа  юг са...   \n",
       "3  глава «роскосмоса» дмитрий рогозин на встрече ...   \n",
       "4  москва  20 февраля   тасс  рф ждет реакцию вел...   \n",
       "\n",
       "                                                TAGS  COMMENTS  \\\n",
       "0  ['Полиция', 'Вытрезвитель', 'Опьянение', 'Прое...        50   \n",
       "1  ['[моё]', 'Политика', 'Голод', 'Голодомор', 'У...       152   \n",
       "2  ['[моё]', 'Новости', 'Политика', 'Скандал', 'С...        30   \n",
       "3  ['Дмитрий Рогозин', 'Новости', 'Политика', 'Ко...        33   \n",
       "4  ['Мария Захарова', 'Политика', 'Великобритания...        57   \n",
       "\n",
       "         NICKNAME        TIME_GAP                  TIMESTAMP  \\\n",
       "0        Kanedias  2 месяца назад  2021-02-20T22:55:57+03:00   \n",
       "1     CultDeadCow  2 месяца назад  2021-02-20T18:44:21+03:00   \n",
       "2      TASSagency  2 месяца назад  2021-02-20T12:57:10+03:00   \n",
       "3  ElonMuskSpaceX  2 месяца назад  2021-02-20T12:34:19+03:00   \n",
       "4          rug178  2 месяца назад  2021-02-20T12:07:30+03:00   \n",
       "\n",
       "   CURRENT_TIMESTAMP                                         TEXT_PUNCT  \\\n",
       "0       1.620672e+09  мвд россии разработало порядок доставления нет...   \n",
       "1       1.620672e+09  а что вы хотите? национализм и шовинизм, в том...   \n",
       "2       1.620672e+09  депутаты томаринского городского округа (юг са...   \n",
       "3       1.620672e+09  глава «роскосмоса» дмитрий рогозин на встрече ...   \n",
       "4       1.620672e+09  москва, 20 февраля. /тасс/. рф ждет реакцию ве...   \n",
       "\n",
       "                                         TITLE_PUNCT  target  \n",
       "0  МВД разработало правила отправки пьяных россия...       7  \n",
       "1  Ответ на пост «\"Геноцид 1933 года\" на страница...       7  \n",
       "2  Сахалинский депутат лишился мандата из-за виде...       7  \n",
       "3   Рогозин отчитался Путину об успехах «Роскосмоса»       7  \n",
       "4  Москва ждет реакцию Лондона на утечку данных о...       7  "
      ]
     },
     "execution_count": 94,
     "metadata": {},
     "output_type": "execute_result"
    }
   ],
   "source": [
    "df.head()"
   ]
  },
  {
   "cell_type": "code",
   "execution_count": 96,
   "metadata": {},
   "outputs": [],
   "source": [
    "df.to_csv(f\"{PROJECT_PATHS.data}\\\\processed\\\\preprocessed.csv\")"
   ]
  }
 ],
 "metadata": {
  "kernelspec": {
   "display_name": "Python 3",
   "language": "python",
   "name": "python3"
  },
  "language_info": {
   "codemirror_mode": {
    "name": "ipython",
    "version": 3
   },
   "file_extension": ".py",
   "mimetype": "text/x-python",
   "name": "python",
   "nbconvert_exporter": "python",
   "pygments_lexer": "ipython3",
   "version": "3.9.4"
  },
  "varInspector": {
   "cols": {
    "lenName": 16,
    "lenType": 16,
    "lenVar": 40
   },
   "kernels_config": {
    "python": {
     "delete_cmd_postfix": "",
     "delete_cmd_prefix": "del ",
     "library": "var_list.py",
     "varRefreshCmd": "print(var_dic_list())"
    },
    "r": {
     "delete_cmd_postfix": ") ",
     "delete_cmd_prefix": "rm(",
     "library": "var_list.r",
     "varRefreshCmd": "cat(var_dic_list()) "
    }
   },
   "types_to_exclude": [
    "module",
    "function",
    "builtin_function_or_method",
    "instance",
    "_Feature"
   ],
   "window_display": false
  }
 },
 "nbformat": 4,
 "nbformat_minor": 4
}
