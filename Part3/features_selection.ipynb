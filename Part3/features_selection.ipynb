{
 "cells": [
  {
   "cell_type": "code",
   "execution_count": 1,
   "metadata": {
    "ExecuteTime": {
     "end_time": "2021-01-13T00:27:20.314205Z",
     "start_time": "2021-01-13T00:27:20.296075Z"
    }
   },
   "outputs": [],
   "source": [
    "import pandas as pd\n",
    "import numpy as np\n",
    "import json"
   ]
  },
  {
   "cell_type": "code",
   "execution_count": 2,
   "metadata": {},
   "outputs": [],
   "source": [
    "import sys\n",
    "sys.path.insert(1, '../src')\n",
    "from src import PROJECT_PATHS"
   ]
  },
  {
   "cell_type": "markdown",
   "metadata": {
    "ExecuteTime": {
     "end_time": "2020-04-30T11:49:52.594222Z",
     "start_time": "2020-04-30T11:49:52.585590Z"
    }
   },
   "source": [
    "After this steps we will receive dataset with the following parameters:\n",
    "1. Likes\n",
    "2. Comments\n",
    "3. Target\n",
    "4. Sin hour / Cos hour\n",
    "5. Sin month / Cos month\n",
    "6. Sin weekend / Cos weekend\n",
    "7. Embedded title 1-300\n",
    "8. Embedded text 1-300\n",
    "\n",
    "For embedding process the fasttext model was used. Lets do it step by step"
   ]
  },
  {
   "cell_type": "markdown",
   "metadata": {},
   "source": [
    "## Some additional processing"
   ]
  },
  {
   "cell_type": "code",
   "execution_count": 3,
   "metadata": {
    "ExecuteTime": {
     "end_time": "2021-01-13T00:27:27.333604Z",
     "start_time": "2021-01-13T00:27:20.746695Z"
    }
   },
   "outputs": [],
   "source": [
    "df = pd.read_csv(f\"{PROJECT_PATHS.data}\\\\processed\\\\preprocessed.csv\", index_col=0)"
   ]
  },
  {
   "cell_type": "markdown",
   "metadata": {},
   "source": [
    "### Split timestamp"
   ]
  },
  {
   "cell_type": "code",
   "execution_count": 4,
   "metadata": {
    "ExecuteTime": {
     "end_time": "2021-01-13T00:27:28.236283Z",
     "start_time": "2021-01-13T00:27:27.336904Z"
    }
   },
   "outputs": [
    {
     "data": {
      "text/plain": [
       "(95580, 11)"
      ]
     },
     "execution_count": 4,
     "metadata": {},
     "output_type": "execute_result"
    }
   ],
   "source": [
    "df.drop(columns=['CURRENT_TIMESTAMP'], inplace=True)\n",
    "df.TITLE = df.TITLE.str.lower()\n",
    "df[\"TIMESTAMP\"] = pd.to_datetime(df['TIMESTAMP'])\n",
    "df.shape"
   ]
  },
  {
   "cell_type": "code",
   "execution_count": 5,
   "metadata": {
    "ExecuteTime": {
     "end_time": "2021-01-13T00:27:29.495980Z",
     "start_time": "2021-01-13T00:27:28.239343Z"
    }
   },
   "outputs": [
    {
     "name": "stderr",
     "output_type": "stream",
     "text": [
      "<ipython-input-5-9e8a95b6654e>:5: FutureWarning: weekofyear and week have been deprecated, please use DatetimeIndex.isocalendar().week instead, which returns a Series.  To exactly reproduce the behavior of week and weekofyear and return an Index, you may call pd.Int64Index(idx.isocalendar().week)\n",
      "  df[\"WEEK\"] = df[\"TIMESTAMP\"].map(lambda x: x.week)\n"
     ]
    }
   ],
   "source": [
    "df[\"HOUR\"] = df[\"TIMESTAMP\"].map(lambda x: x.hour)\n",
    "df[\"YEAR\"] = df[\"TIMESTAMP\"].map(lambda x: x.year)\n",
    "df[\"MONTH\"] = df[\"TIMESTAMP\"].map(lambda x: x.month)\n",
    "df[\"WEEKDAY\"] = df[\"TIMESTAMP\"].map(lambda x: x.weekday())\n",
    "df[\"WEEK\"] = df[\"TIMESTAMP\"].map(lambda x: x.week)"
   ]
  },
  {
   "cell_type": "code",
   "execution_count": 6,
   "metadata": {
    "ExecuteTime": {
     "end_time": "2021-01-13T00:27:29.522647Z",
     "start_time": "2021-01-13T00:27:29.499219Z"
    },
    "scrolled": false
   },
   "outputs": [
    {
     "data": {
      "text/html": [
       "<div>\n",
       "<style scoped>\n",
       "    .dataframe tbody tr th:only-of-type {\n",
       "        vertical-align: middle;\n",
       "    }\n",
       "\n",
       "    .dataframe tbody tr th {\n",
       "        vertical-align: top;\n",
       "    }\n",
       "\n",
       "    .dataframe thead th {\n",
       "        text-align: right;\n",
       "    }\n",
       "</style>\n",
       "<table border=\"1\" class=\"dataframe\">\n",
       "  <thead>\n",
       "    <tr style=\"text-align: right;\">\n",
       "      <th></th>\n",
       "      <th>TITLE</th>\n",
       "      <th>LIKES</th>\n",
       "      <th>TEXT</th>\n",
       "      <th>TAGS</th>\n",
       "      <th>COMMENTS</th>\n",
       "      <th>NICKNAME</th>\n",
       "      <th>TIME_GAP</th>\n",
       "      <th>TIMESTAMP</th>\n",
       "      <th>TEXT_PUNCT</th>\n",
       "      <th>TITLE_PUNCT</th>\n",
       "      <th>target</th>\n",
       "      <th>HOUR</th>\n",
       "      <th>YEAR</th>\n",
       "      <th>MONTH</th>\n",
       "      <th>WEEKDAY</th>\n",
       "      <th>WEEK</th>\n",
       "    </tr>\n",
       "  </thead>\n",
       "  <tbody>\n",
       "    <tr>\n",
       "      <th>0</th>\n",
       "      <td>мвд разработало правила отправки пьяных россия...</td>\n",
       "      <td>NaN</td>\n",
       "      <td>мвд россии разработало порядок доставления нет...</td>\n",
       "      <td>['Полиция', 'Вытрезвитель', 'Опьянение', 'Прое...</td>\n",
       "      <td>50</td>\n",
       "      <td>Kanedias</td>\n",
       "      <td>2 месяца назад</td>\n",
       "      <td>2021-02-20 22:55:57+03:00</td>\n",
       "      <td>мвд россии разработало порядок доставления нет...</td>\n",
       "      <td>МВД разработало правила отправки пьяных россия...</td>\n",
       "      <td>7</td>\n",
       "      <td>22</td>\n",
       "      <td>2021</td>\n",
       "      <td>2</td>\n",
       "      <td>5</td>\n",
       "      <td>7</td>\n",
       "    </tr>\n",
       "    <tr>\n",
       "      <th>1</th>\n",
       "      <td>ответ на пост « геноцид 1933 года  на страница...</td>\n",
       "      <td>-39.0</td>\n",
       "      <td>а что вы хотите  национализм и шовинизм  в том...</td>\n",
       "      <td>['[моё]', 'Политика', 'Голод', 'Голодомор', 'У...</td>\n",
       "      <td>152</td>\n",
       "      <td>CultDeadCow</td>\n",
       "      <td>2 месяца назад</td>\n",
       "      <td>2021-02-20 18:44:21+03:00</td>\n",
       "      <td>а что вы хотите? национализм и шовинизм, в том...</td>\n",
       "      <td>Ответ на пост «\"Геноцид 1933 года\" на страница...</td>\n",
       "      <td>7</td>\n",
       "      <td>18</td>\n",
       "      <td>2021</td>\n",
       "      <td>2</td>\n",
       "      <td>5</td>\n",
       "      <td>7</td>\n",
       "    </tr>\n",
       "    <tr>\n",
       "      <th>2</th>\n",
       "      <td>сахалинский депутат лишился мандата из за виде...</td>\n",
       "      <td>186.0</td>\n",
       "      <td>депутаты томаринского городского округа  юг са...</td>\n",
       "      <td>['[моё]', 'Новости', 'Политика', 'Скандал', 'С...</td>\n",
       "      <td>30</td>\n",
       "      <td>TASSagency</td>\n",
       "      <td>2 месяца назад</td>\n",
       "      <td>2021-02-20 12:57:10+03:00</td>\n",
       "      <td>депутаты томаринского городского округа (юг са...</td>\n",
       "      <td>Сахалинский депутат лишился мандата из-за виде...</td>\n",
       "      <td>7</td>\n",
       "      <td>12</td>\n",
       "      <td>2021</td>\n",
       "      <td>2</td>\n",
       "      <td>5</td>\n",
       "      <td>7</td>\n",
       "    </tr>\n",
       "    <tr>\n",
       "      <th>3</th>\n",
       "      <td>рогозин отчитался путину об успехах «роскосмоса»</td>\n",
       "      <td>48.0</td>\n",
       "      <td>глава «роскосмоса» дмитрий рогозин на встрече ...</td>\n",
       "      <td>['Дмитрий Рогозин', 'Новости', 'Политика', 'Ко...</td>\n",
       "      <td>33</td>\n",
       "      <td>ElonMuskSpaceX</td>\n",
       "      <td>2 месяца назад</td>\n",
       "      <td>2021-02-20 12:34:19+03:00</td>\n",
       "      <td>глава «роскосмоса» дмитрий рогозин на встрече ...</td>\n",
       "      <td>Рогозин отчитался Путину об успехах «Роскосмоса»</td>\n",
       "      <td>7</td>\n",
       "      <td>12</td>\n",
       "      <td>2021</td>\n",
       "      <td>2</td>\n",
       "      <td>5</td>\n",
       "      <td>7</td>\n",
       "    </tr>\n",
       "    <tr>\n",
       "      <th>4</th>\n",
       "      <td>москва ждет реакцию лондона на утечку данных о...</td>\n",
       "      <td>27.0</td>\n",
       "      <td>москва  20 февраля   тасс  рф ждет реакцию вел...</td>\n",
       "      <td>['Мария Захарова', 'Политика', 'Великобритания...</td>\n",
       "      <td>57</td>\n",
       "      <td>rug178</td>\n",
       "      <td>2 месяца назад</td>\n",
       "      <td>2021-02-20 12:07:30+03:00</td>\n",
       "      <td>москва, 20 февраля. /тасс/. рф ждет реакцию ве...</td>\n",
       "      <td>Москва ждет реакцию Лондона на утечку данных о...</td>\n",
       "      <td>7</td>\n",
       "      <td>12</td>\n",
       "      <td>2021</td>\n",
       "      <td>2</td>\n",
       "      <td>5</td>\n",
       "      <td>7</td>\n",
       "    </tr>\n",
       "  </tbody>\n",
       "</table>\n",
       "</div>"
      ],
      "text/plain": [
       "                                               TITLE  LIKES  \\\n",
       "0  мвд разработало правила отправки пьяных россия...    NaN   \n",
       "1  ответ на пост « геноцид 1933 года  на страница...  -39.0   \n",
       "2  сахалинский депутат лишился мандата из за виде...  186.0   \n",
       "3   рогозин отчитался путину об успехах «роскосмоса»   48.0   \n",
       "4  москва ждет реакцию лондона на утечку данных о...   27.0   \n",
       "\n",
       "                                                TEXT  \\\n",
       "0  мвд россии разработало порядок доставления нет...   \n",
       "1  а что вы хотите  национализм и шовинизм  в том...   \n",
       "2  депутаты томаринского городского округа  юг са...   \n",
       "3  глава «роскосмоса» дмитрий рогозин на встрече ...   \n",
       "4  москва  20 февраля   тасс  рф ждет реакцию вел...   \n",
       "\n",
       "                                                TAGS  COMMENTS  \\\n",
       "0  ['Полиция', 'Вытрезвитель', 'Опьянение', 'Прое...        50   \n",
       "1  ['[моё]', 'Политика', 'Голод', 'Голодомор', 'У...       152   \n",
       "2  ['[моё]', 'Новости', 'Политика', 'Скандал', 'С...        30   \n",
       "3  ['Дмитрий Рогозин', 'Новости', 'Политика', 'Ко...        33   \n",
       "4  ['Мария Захарова', 'Политика', 'Великобритания...        57   \n",
       "\n",
       "         NICKNAME        TIME_GAP                 TIMESTAMP  \\\n",
       "0        Kanedias  2 месяца назад 2021-02-20 22:55:57+03:00   \n",
       "1     CultDeadCow  2 месяца назад 2021-02-20 18:44:21+03:00   \n",
       "2      TASSagency  2 месяца назад 2021-02-20 12:57:10+03:00   \n",
       "3  ElonMuskSpaceX  2 месяца назад 2021-02-20 12:34:19+03:00   \n",
       "4          rug178  2 месяца назад 2021-02-20 12:07:30+03:00   \n",
       "\n",
       "                                          TEXT_PUNCT  \\\n",
       "0  мвд россии разработало порядок доставления нет...   \n",
       "1  а что вы хотите? национализм и шовинизм, в том...   \n",
       "2  депутаты томаринского городского округа (юг са...   \n",
       "3  глава «роскосмоса» дмитрий рогозин на встрече ...   \n",
       "4  москва, 20 февраля. /тасс/. рф ждет реакцию ве...   \n",
       "\n",
       "                                         TITLE_PUNCT  target  HOUR  YEAR  \\\n",
       "0  МВД разработало правила отправки пьяных россия...       7    22  2021   \n",
       "1  Ответ на пост «\"Геноцид 1933 года\" на страница...       7    18  2021   \n",
       "2  Сахалинский депутат лишился мандата из-за виде...       7    12  2021   \n",
       "3   Рогозин отчитался Путину об успехах «Роскосмоса»       7    12  2021   \n",
       "4  Москва ждет реакцию Лондона на утечку данных о...       7    12  2021   \n",
       "\n",
       "   MONTH  WEEKDAY  WEEK  \n",
       "0      2        5     7  \n",
       "1      2        5     7  \n",
       "2      2        5     7  \n",
       "3      2        5     7  \n",
       "4      2        5     7  "
      ]
     },
     "execution_count": 6,
     "metadata": {},
     "output_type": "execute_result"
    }
   ],
   "source": [
    "df.head()"
   ]
  },
  {
   "cell_type": "markdown",
   "metadata": {},
   "source": [
    "### Drop not used and fill na"
   ]
  },
  {
   "cell_type": "code",
   "execution_count": 7,
   "metadata": {},
   "outputs": [
    {
     "name": "stdout",
     "output_type": "stream",
     "text": [
      "(95580, 8)\n"
     ]
    },
    {
     "name": "stderr",
     "output_type": "stream",
     "text": [
      "<ipython-input-7-34c8cd3fe89e>:2: SettingWithCopyWarning: \n",
      "A value is trying to be set on a copy of a slice from a DataFrame\n",
      "\n",
      "See the caveats in the documentation: https://pandas.pydata.org/pandas-docs/stable/user_guide/indexing.html#returning-a-view-versus-a-copy\n",
      "  df[\"TITLE\"][df['TITLE'].isnull()] = ''\n"
     ]
    }
   ],
   "source": [
    "df.drop(df[df['TITLE'] == 'удалено'].index, inplace=True)\n",
    "df[\"TITLE\"][df['TITLE'].isnull()] = ''\n",
    "df['LIKES'] = df['LIKES'].fillna(0)\n",
    "df.drop(columns=[\"TAGS\", \"NICKNAME\", \"TEXT_PUNCT\", \"TITLE_PUNCT\", \"YEAR\", \"WEEK\", \"TIMESTAMP\", \"TIME_GAP\"], inplace=True)\n",
    "df.drop(index = df.loc[~(df['TITLE'].str.len() > 0)].index, inplace=True)\n",
    "print(df.shape)"
   ]
  },
  {
   "cell_type": "code",
   "execution_count": 8,
   "metadata": {
    "ExecuteTime": {
     "end_time": "2021-01-13T00:27:29.564540Z",
     "start_time": "2021-01-13T00:27:29.546868Z"
    }
   },
   "outputs": [
    {
     "data": {
      "text/html": [
       "<div>\n",
       "<style scoped>\n",
       "    .dataframe tbody tr th:only-of-type {\n",
       "        vertical-align: middle;\n",
       "    }\n",
       "\n",
       "    .dataframe tbody tr th {\n",
       "        vertical-align: top;\n",
       "    }\n",
       "\n",
       "    .dataframe thead th {\n",
       "        text-align: right;\n",
       "    }\n",
       "</style>\n",
       "<table border=\"1\" class=\"dataframe\">\n",
       "  <thead>\n",
       "    <tr style=\"text-align: right;\">\n",
       "      <th></th>\n",
       "      <th>TITLE</th>\n",
       "      <th>LIKES</th>\n",
       "      <th>TEXT</th>\n",
       "      <th>COMMENTS</th>\n",
       "      <th>target</th>\n",
       "      <th>HOUR</th>\n",
       "      <th>MONTH</th>\n",
       "      <th>WEEKDAY</th>\n",
       "    </tr>\n",
       "  </thead>\n",
       "  <tbody>\n",
       "    <tr>\n",
       "      <th>0</th>\n",
       "      <td>мвд разработало правила отправки пьяных россия...</td>\n",
       "      <td>0.0</td>\n",
       "      <td>мвд россии разработало порядок доставления нет...</td>\n",
       "      <td>50</td>\n",
       "      <td>7</td>\n",
       "      <td>22</td>\n",
       "      <td>2</td>\n",
       "      <td>5</td>\n",
       "    </tr>\n",
       "    <tr>\n",
       "      <th>1</th>\n",
       "      <td>ответ на пост « геноцид 1933 года  на страница...</td>\n",
       "      <td>-39.0</td>\n",
       "      <td>а что вы хотите  национализм и шовинизм  в том...</td>\n",
       "      <td>152</td>\n",
       "      <td>7</td>\n",
       "      <td>18</td>\n",
       "      <td>2</td>\n",
       "      <td>5</td>\n",
       "    </tr>\n",
       "    <tr>\n",
       "      <th>2</th>\n",
       "      <td>сахалинский депутат лишился мандата из за виде...</td>\n",
       "      <td>186.0</td>\n",
       "      <td>депутаты томаринского городского округа  юг са...</td>\n",
       "      <td>30</td>\n",
       "      <td>7</td>\n",
       "      <td>12</td>\n",
       "      <td>2</td>\n",
       "      <td>5</td>\n",
       "    </tr>\n",
       "    <tr>\n",
       "      <th>3</th>\n",
       "      <td>рогозин отчитался путину об успехах «роскосмоса»</td>\n",
       "      <td>48.0</td>\n",
       "      <td>глава «роскосмоса» дмитрий рогозин на встрече ...</td>\n",
       "      <td>33</td>\n",
       "      <td>7</td>\n",
       "      <td>12</td>\n",
       "      <td>2</td>\n",
       "      <td>5</td>\n",
       "    </tr>\n",
       "    <tr>\n",
       "      <th>4</th>\n",
       "      <td>москва ждет реакцию лондона на утечку данных о...</td>\n",
       "      <td>27.0</td>\n",
       "      <td>москва  20 февраля   тасс  рф ждет реакцию вел...</td>\n",
       "      <td>57</td>\n",
       "      <td>7</td>\n",
       "      <td>12</td>\n",
       "      <td>2</td>\n",
       "      <td>5</td>\n",
       "    </tr>\n",
       "  </tbody>\n",
       "</table>\n",
       "</div>"
      ],
      "text/plain": [
       "                                               TITLE  LIKES  \\\n",
       "0  мвд разработало правила отправки пьяных россия...    0.0   \n",
       "1  ответ на пост « геноцид 1933 года  на страница...  -39.0   \n",
       "2  сахалинский депутат лишился мандата из за виде...  186.0   \n",
       "3   рогозин отчитался путину об успехах «роскосмоса»   48.0   \n",
       "4  москва ждет реакцию лондона на утечку данных о...   27.0   \n",
       "\n",
       "                                                TEXT  COMMENTS  target  HOUR  \\\n",
       "0  мвд россии разработало порядок доставления нет...        50       7    22   \n",
       "1  а что вы хотите  национализм и шовинизм  в том...       152       7    18   \n",
       "2  депутаты томаринского городского округа  юг са...        30       7    12   \n",
       "3  глава «роскосмоса» дмитрий рогозин на встрече ...        33       7    12   \n",
       "4  москва  20 февраля   тасс  рф ждет реакцию вел...        57       7    12   \n",
       "\n",
       "   MONTH  WEEKDAY  \n",
       "0      2        5  \n",
       "1      2        5  \n",
       "2      2        5  \n",
       "3      2        5  \n",
       "4      2        5  "
      ]
     },
     "execution_count": 8,
     "metadata": {},
     "output_type": "execute_result"
    }
   ],
   "source": [
    "df.head()"
   ]
  },
  {
   "cell_type": "markdown",
   "metadata": {},
   "source": [
    "### Replace time with sin and cos"
   ]
  },
  {
   "cell_type": "code",
   "execution_count": 9,
   "metadata": {
    "ExecuteTime": {
     "end_time": "2021-01-13T00:27:29.590445Z",
     "start_time": "2021-01-13T00:27:29.583441Z"
    }
   },
   "outputs": [],
   "source": [
    "def make_cos_list(list_, period=24):\n",
    "    def make_cos(value, period=period):\n",
    "        return np.cos(value*2*np.pi/period)\n",
    "    return [make_cos(x) for x in list_]"
   ]
  },
  {
   "cell_type": "code",
   "execution_count": 10,
   "metadata": {
    "ExecuteTime": {
     "end_time": "2021-01-13T00:27:29.601435Z",
     "start_time": "2021-01-13T00:27:29.595285Z"
    }
   },
   "outputs": [],
   "source": [
    "def make_sin_list(list_, period=24):\n",
    "    def make_sin(value, period=period):\n",
    "        return np.sin(value*2*np.pi/period)\n",
    "    return [make_sin(x) for x in list_]"
   ]
  },
  {
   "cell_type": "code",
   "execution_count": 11,
   "metadata": {
    "ExecuteTime": {
     "end_time": "2021-01-13T00:27:30.328388Z",
     "start_time": "2021-01-13T00:27:29.618982Z"
    }
   },
   "outputs": [],
   "source": [
    "df['sin_hour'] = make_sin_list(df['HOUR'])\n",
    "df['cos_hour'] = make_cos_list(df['HOUR'])\n",
    "\n",
    "df['cos_month'] = make_cos_list(df['MONTH'], 12)\n",
    "df['sin_month'] = make_sin_list(df[\"MONTH\"], 12)\n",
    "\n",
    "df['cos_weekday'] = make_cos_list(df['WEEKDAY'], 7) \n",
    "df['sin_weekday'] = make_sin_list(df['WEEKDAY'], 7)\n",
    "\n",
    "df.drop(columns=['HOUR', 'MONTH', 'WEEKDAY'], inplace=True)"
   ]
  },
  {
   "cell_type": "code",
   "execution_count": 12,
   "metadata": {
    "ExecuteTime": {
     "end_time": "2021-01-13T00:27:30.454096Z",
     "start_time": "2021-01-13T00:27:30.383753Z"
    }
   },
   "outputs": [
    {
     "data": {
      "text/html": [
       "<div>\n",
       "<style scoped>\n",
       "    .dataframe tbody tr th:only-of-type {\n",
       "        vertical-align: middle;\n",
       "    }\n",
       "\n",
       "    .dataframe tbody tr th {\n",
       "        vertical-align: top;\n",
       "    }\n",
       "\n",
       "    .dataframe thead th {\n",
       "        text-align: right;\n",
       "    }\n",
       "</style>\n",
       "<table border=\"1\" class=\"dataframe\">\n",
       "  <thead>\n",
       "    <tr style=\"text-align: right;\">\n",
       "      <th></th>\n",
       "      <th>TITLE</th>\n",
       "      <th>LIKES</th>\n",
       "      <th>TEXT</th>\n",
       "      <th>COMMENTS</th>\n",
       "      <th>target</th>\n",
       "      <th>sin_hour</th>\n",
       "      <th>cos_hour</th>\n",
       "      <th>cos_month</th>\n",
       "      <th>sin_month</th>\n",
       "      <th>cos_weekday</th>\n",
       "      <th>sin_weekday</th>\n",
       "    </tr>\n",
       "  </thead>\n",
       "  <tbody>\n",
       "    <tr>\n",
       "      <th>0</th>\n",
       "      <td>мвд разработало правила отправки пьяных россия...</td>\n",
       "      <td>0.0</td>\n",
       "      <td>мвд россии разработало порядок доставления нет...</td>\n",
       "      <td>50</td>\n",
       "      <td>7</td>\n",
       "      <td>-5.000000e-01</td>\n",
       "      <td>8.660254e-01</td>\n",
       "      <td>0.5</td>\n",
       "      <td>0.866025</td>\n",
       "      <td>-0.222521</td>\n",
       "      <td>-0.974928</td>\n",
       "    </tr>\n",
       "    <tr>\n",
       "      <th>1</th>\n",
       "      <td>ответ на пост « геноцид 1933 года  на страница...</td>\n",
       "      <td>-39.0</td>\n",
       "      <td>а что вы хотите  национализм и шовинизм  в том...</td>\n",
       "      <td>152</td>\n",
       "      <td>7</td>\n",
       "      <td>-1.000000e+00</td>\n",
       "      <td>-1.836970e-16</td>\n",
       "      <td>0.5</td>\n",
       "      <td>0.866025</td>\n",
       "      <td>-0.222521</td>\n",
       "      <td>-0.974928</td>\n",
       "    </tr>\n",
       "    <tr>\n",
       "      <th>2</th>\n",
       "      <td>сахалинский депутат лишился мандата из за виде...</td>\n",
       "      <td>186.0</td>\n",
       "      <td>депутаты томаринского городского округа  юг са...</td>\n",
       "      <td>30</td>\n",
       "      <td>7</td>\n",
       "      <td>1.224647e-16</td>\n",
       "      <td>-1.000000e+00</td>\n",
       "      <td>0.5</td>\n",
       "      <td>0.866025</td>\n",
       "      <td>-0.222521</td>\n",
       "      <td>-0.974928</td>\n",
       "    </tr>\n",
       "    <tr>\n",
       "      <th>3</th>\n",
       "      <td>рогозин отчитался путину об успехах «роскосмоса»</td>\n",
       "      <td>48.0</td>\n",
       "      <td>глава «роскосмоса» дмитрий рогозин на встрече ...</td>\n",
       "      <td>33</td>\n",
       "      <td>7</td>\n",
       "      <td>1.224647e-16</td>\n",
       "      <td>-1.000000e+00</td>\n",
       "      <td>0.5</td>\n",
       "      <td>0.866025</td>\n",
       "      <td>-0.222521</td>\n",
       "      <td>-0.974928</td>\n",
       "    </tr>\n",
       "    <tr>\n",
       "      <th>4</th>\n",
       "      <td>москва ждет реакцию лондона на утечку данных о...</td>\n",
       "      <td>27.0</td>\n",
       "      <td>москва  20 февраля   тасс  рф ждет реакцию вел...</td>\n",
       "      <td>57</td>\n",
       "      <td>7</td>\n",
       "      <td>1.224647e-16</td>\n",
       "      <td>-1.000000e+00</td>\n",
       "      <td>0.5</td>\n",
       "      <td>0.866025</td>\n",
       "      <td>-0.222521</td>\n",
       "      <td>-0.974928</td>\n",
       "    </tr>\n",
       "  </tbody>\n",
       "</table>\n",
       "</div>"
      ],
      "text/plain": [
       "                                               TITLE  LIKES  \\\n",
       "0  мвд разработало правила отправки пьяных россия...    0.0   \n",
       "1  ответ на пост « геноцид 1933 года  на страница...  -39.0   \n",
       "2  сахалинский депутат лишился мандата из за виде...  186.0   \n",
       "3   рогозин отчитался путину об успехах «роскосмоса»   48.0   \n",
       "4  москва ждет реакцию лондона на утечку данных о...   27.0   \n",
       "\n",
       "                                                TEXT  COMMENTS  target  \\\n",
       "0  мвд россии разработало порядок доставления нет...        50       7   \n",
       "1  а что вы хотите  национализм и шовинизм  в том...       152       7   \n",
       "2  депутаты томаринского городского округа  юг са...        30       7   \n",
       "3  глава «роскосмоса» дмитрий рогозин на встрече ...        33       7   \n",
       "4  москва  20 февраля   тасс  рф ждет реакцию вел...        57       7   \n",
       "\n",
       "       sin_hour      cos_hour  cos_month  sin_month  cos_weekday  sin_weekday  \n",
       "0 -5.000000e-01  8.660254e-01        0.5   0.866025    -0.222521    -0.974928  \n",
       "1 -1.000000e+00 -1.836970e-16        0.5   0.866025    -0.222521    -0.974928  \n",
       "2  1.224647e-16 -1.000000e+00        0.5   0.866025    -0.222521    -0.974928  \n",
       "3  1.224647e-16 -1.000000e+00        0.5   0.866025    -0.222521    -0.974928  \n",
       "4  1.224647e-16 -1.000000e+00        0.5   0.866025    -0.222521    -0.974928  "
      ]
     },
     "execution_count": 12,
     "metadata": {},
     "output_type": "execute_result"
    }
   ],
   "source": [
    "df.head()"
   ]
  },
  {
   "cell_type": "markdown",
   "metadata": {},
   "source": [
    "### Embedding (using fast text)"
   ]
  },
  {
   "cell_type": "code",
   "execution_count": 13,
   "metadata": {
    "ExecuteTime": {
     "end_time": "2021-01-13T00:27:30.467643Z",
     "start_time": "2021-01-13T00:27:30.459373Z"
    }
   },
   "outputs": [
    {
     "name": "stderr",
     "output_type": "stream",
     "text": [
      "[nltk_data] Downloading package stopwords to\n",
      "[nltk_data]     C:\\Users\\Stanislav\\AppData\\Roaming\\nltk_data...\n",
      "[nltk_data]   Package stopwords is already up-to-date!\n"
     ]
    }
   ],
   "source": [
    "import nltk\n",
    "nltk.download('stopwords')\n",
    "from nltk.corpus import stopwords\n",
    "sw = stopwords.words(\"russian\")"
   ]
  },
  {
   "cell_type": "code",
   "execution_count": 14,
   "metadata": {
    "ExecuteTime": {
     "end_time": "2021-01-13T00:27:30.480303Z",
     "start_time": "2021-01-13T00:27:30.470504Z"
    }
   },
   "outputs": [],
   "source": [
    "from compress_fasttext.models import CompressedFastTextKeyedVectors"
   ]
  },
  {
   "cell_type": "markdown",
   "metadata": {},
   "source": [
    "Download fasttext model (already downloaded)"
   ]
  },
  {
   "cell_type": "code",
   "execution_count": 15,
   "metadata": {},
   "outputs": [],
   "source": [
    "import fasttext\n",
    "# fasttext.util.download_model('ru', if_exists='ignore')  # English\n",
    "# ft = fasttext.load_model('cc.ru.300.bin')"
   ]
  },
  {
   "cell_type": "code",
   "execution_count": 16,
   "metadata": {
    "ExecuteTime": {
     "end_time": "2021-01-13T00:27:32.869365Z",
     "start_time": "2021-01-13T00:27:30.483057Z"
    }
   },
   "outputs": [
    {
     "name": "stderr",
     "output_type": "stream",
     "text": [
      "Warning : `load_model` does not return WordVectorModel or SupervisedModel any more, but a `FastText` object which is very similar.\n"
     ]
    }
   ],
   "source": [
    "import pathlib\n",
    "cur_path = pathlib.Path().absolute()\n",
    "embs = f\"{cur_path}\\\\cc.ru.300.bin\"\n",
    "embeddings = fasttext.load_model(embs)"
   ]
  },
  {
   "cell_type": "code",
   "execution_count": 17,
   "metadata": {
    "ExecuteTime": {
     "end_time": "2021-01-13T00:27:32.877439Z",
     "start_time": "2021-01-13T00:27:32.871693Z"
    }
   },
   "outputs": [],
   "source": [
    "def embed(tokens, default_size=300):\n",
    "    if not tokens:\n",
    "        return np.zeros(default_size)\n",
    "    embs = [embeddings[_normalize_string(x)] for x in tokens]\n",
    "    return sum(embs) / len(tokens)\n",
    "\n",
    "def _normalize_string(text):\n",
    "    return text.replace('ё', 'е')\n",
    "\n",
    "def remove_stop_words(words_list):\n",
    "    return [x for x in words_list if x not in sw]"
   ]
  },
  {
   "cell_type": "code",
   "execution_count": 18,
   "metadata": {
    "ExecuteTime": {
     "end_time": "2021-01-13T00:27:32.891996Z",
     "start_time": "2021-01-13T00:27:32.880708Z"
    }
   },
   "outputs": [],
   "source": [
    "def process_record(record):\n",
    "    return embed(remove_stop_words(record.split()))"
   ]
  },
  {
   "cell_type": "code",
   "execution_count": 19,
   "metadata": {
    "ExecuteTime": {
     "end_time": "2021-01-13T00:27:40.306396Z",
     "start_time": "2021-01-13T00:27:32.895705Z"
    }
   },
   "outputs": [],
   "source": [
    "df['emb_title'] = df['TITLE'].map(process_record)"
   ]
  },
  {
   "cell_type": "code",
   "execution_count": 20,
   "metadata": {
    "ExecuteTime": {
     "end_time": "2021-01-13T00:31:23.083172Z",
     "start_time": "2021-01-13T00:27:40.309571Z"
    }
   },
   "outputs": [],
   "source": [
    "df['emb_text'] = df['TEXT'].map(str).map(process_record)"
   ]
  },
  {
   "cell_type": "code",
   "execution_count": 21,
   "metadata": {
    "ExecuteTime": {
     "end_time": "2021-01-13T00:31:23.105980Z",
     "start_time": "2021-01-13T00:31:23.084600Z"
    }
   },
   "outputs": [],
   "source": [
    "df.drop(columns=['TITLE', 'TEXT'], inplace=True)"
   ]
  },
  {
   "cell_type": "code",
   "execution_count": 22,
   "metadata": {
    "ExecuteTime": {
     "end_time": "2021-01-13T00:31:23.159191Z",
     "start_time": "2021-01-13T00:31:23.107643Z"
    }
   },
   "outputs": [
    {
     "data": {
      "text/html": [
       "<div>\n",
       "<style scoped>\n",
       "    .dataframe tbody tr th:only-of-type {\n",
       "        vertical-align: middle;\n",
       "    }\n",
       "\n",
       "    .dataframe tbody tr th {\n",
       "        vertical-align: top;\n",
       "    }\n",
       "\n",
       "    .dataframe thead th {\n",
       "        text-align: right;\n",
       "    }\n",
       "</style>\n",
       "<table border=\"1\" class=\"dataframe\">\n",
       "  <thead>\n",
       "    <tr style=\"text-align: right;\">\n",
       "      <th></th>\n",
       "      <th>LIKES</th>\n",
       "      <th>COMMENTS</th>\n",
       "      <th>target</th>\n",
       "      <th>sin_hour</th>\n",
       "      <th>cos_hour</th>\n",
       "      <th>cos_month</th>\n",
       "      <th>sin_month</th>\n",
       "      <th>cos_weekday</th>\n",
       "      <th>sin_weekday</th>\n",
       "      <th>emb_title</th>\n",
       "      <th>emb_text</th>\n",
       "    </tr>\n",
       "  </thead>\n",
       "  <tbody>\n",
       "    <tr>\n",
       "      <th>0</th>\n",
       "      <td>0.0</td>\n",
       "      <td>50</td>\n",
       "      <td>7</td>\n",
       "      <td>-5.000000e-01</td>\n",
       "      <td>8.660254e-01</td>\n",
       "      <td>0.5</td>\n",
       "      <td>0.866025</td>\n",
       "      <td>-0.222521</td>\n",
       "      <td>-0.974928</td>\n",
       "      <td>[0.06757413, -0.07326214, -0.018460793, -0.017...</td>\n",
       "      <td>[0.01676879, -0.025353305, 0.0008141762, 0.012...</td>\n",
       "    </tr>\n",
       "    <tr>\n",
       "      <th>1</th>\n",
       "      <td>-39.0</td>\n",
       "      <td>152</td>\n",
       "      <td>7</td>\n",
       "      <td>-1.000000e+00</td>\n",
       "      <td>-1.836970e-16</td>\n",
       "      <td>0.5</td>\n",
       "      <td>0.866025</td>\n",
       "      <td>-0.222521</td>\n",
       "      <td>-0.974928</td>\n",
       "      <td>[0.015744198, 0.0021398822, -0.008616511, 0.01...</td>\n",
       "      <td>[0.027725127, -0.020325447, -0.008841635, 0.02...</td>\n",
       "    </tr>\n",
       "    <tr>\n",
       "      <th>2</th>\n",
       "      <td>186.0</td>\n",
       "      <td>30</td>\n",
       "      <td>7</td>\n",
       "      <td>1.224647e-16</td>\n",
       "      <td>-1.000000e+00</td>\n",
       "      <td>0.5</td>\n",
       "      <td>0.866025</td>\n",
       "      <td>-0.222521</td>\n",
       "      <td>-0.974928</td>\n",
       "      <td>[0.054962788, -0.01747963, 0.032105397, 0.0041...</td>\n",
       "      <td>[0.027245743, -0.008372225, -0.007476216, 0.00...</td>\n",
       "    </tr>\n",
       "    <tr>\n",
       "      <th>3</th>\n",
       "      <td>48.0</td>\n",
       "      <td>33</td>\n",
       "      <td>7</td>\n",
       "      <td>1.224647e-16</td>\n",
       "      <td>-1.000000e+00</td>\n",
       "      <td>0.5</td>\n",
       "      <td>0.866025</td>\n",
       "      <td>-0.222521</td>\n",
       "      <td>-0.974928</td>\n",
       "      <td>[0.095593646, 0.026084613, -0.018681413, -0.03...</td>\n",
       "      <td>[0.037643507, -0.010600946, 0.008813703, -0.00...</td>\n",
       "    </tr>\n",
       "    <tr>\n",
       "      <th>4</th>\n",
       "      <td>27.0</td>\n",
       "      <td>57</td>\n",
       "      <td>7</td>\n",
       "      <td>1.224647e-16</td>\n",
       "      <td>-1.000000e+00</td>\n",
       "      <td>0.5</td>\n",
       "      <td>0.866025</td>\n",
       "      <td>-0.222521</td>\n",
       "      <td>-0.974928</td>\n",
       "      <td>[0.029514674, -0.035032023, -0.003657855, 0.00...</td>\n",
       "      <td>[0.033378504, -0.037415743, 0.0053046923, 0.00...</td>\n",
       "    </tr>\n",
       "  </tbody>\n",
       "</table>\n",
       "</div>"
      ],
      "text/plain": [
       "   LIKES  COMMENTS  target      sin_hour      cos_hour  cos_month  sin_month  \\\n",
       "0    0.0        50       7 -5.000000e-01  8.660254e-01        0.5   0.866025   \n",
       "1  -39.0       152       7 -1.000000e+00 -1.836970e-16        0.5   0.866025   \n",
       "2  186.0        30       7  1.224647e-16 -1.000000e+00        0.5   0.866025   \n",
       "3   48.0        33       7  1.224647e-16 -1.000000e+00        0.5   0.866025   \n",
       "4   27.0        57       7  1.224647e-16 -1.000000e+00        0.5   0.866025   \n",
       "\n",
       "   cos_weekday  sin_weekday  \\\n",
       "0    -0.222521    -0.974928   \n",
       "1    -0.222521    -0.974928   \n",
       "2    -0.222521    -0.974928   \n",
       "3    -0.222521    -0.974928   \n",
       "4    -0.222521    -0.974928   \n",
       "\n",
       "                                           emb_title  \\\n",
       "0  [0.06757413, -0.07326214, -0.018460793, -0.017...   \n",
       "1  [0.015744198, 0.0021398822, -0.008616511, 0.01...   \n",
       "2  [0.054962788, -0.01747963, 0.032105397, 0.0041...   \n",
       "3  [0.095593646, 0.026084613, -0.018681413, -0.03...   \n",
       "4  [0.029514674, -0.035032023, -0.003657855, 0.00...   \n",
       "\n",
       "                                            emb_text  \n",
       "0  [0.01676879, -0.025353305, 0.0008141762, 0.012...  \n",
       "1  [0.027725127, -0.020325447, -0.008841635, 0.02...  \n",
       "2  [0.027245743, -0.008372225, -0.007476216, 0.00...  \n",
       "3  [0.037643507, -0.010600946, 0.008813703, -0.00...  \n",
       "4  [0.033378504, -0.037415743, 0.0053046923, 0.00...  "
      ]
     },
     "execution_count": 22,
     "metadata": {},
     "output_type": "execute_result"
    }
   ],
   "source": [
    "df.head()"
   ]
  },
  {
   "cell_type": "code",
   "execution_count": 23,
   "metadata": {
    "ExecuteTime": {
     "end_time": "2021-01-13T00:31:32.387462Z",
     "start_time": "2021-01-13T00:31:23.165064Z"
    }
   },
   "outputs": [],
   "source": [
    "df['emb_title'] = df['emb_title'].map(lambda x: json.dumps([float(y) for y in x]))\n",
    "df['emb_text'] = df['emb_text'].map(lambda x: json.dumps([float(y) for y in x]))"
   ]
  },
  {
   "cell_type": "code",
   "execution_count": 24,
   "metadata": {
    "ExecuteTime": {
     "end_time": "2021-01-13T00:31:37.516759Z",
     "start_time": "2021-01-13T00:31:37.491528Z"
    }
   },
   "outputs": [
    {
     "data": {
      "text/plain": [
       "LIKES          0\n",
       "COMMENTS       0\n",
       "target         0\n",
       "sin_hour       0\n",
       "cos_hour       0\n",
       "cos_month      0\n",
       "sin_month      0\n",
       "cos_weekday    0\n",
       "sin_weekday    0\n",
       "emb_title      0\n",
       "emb_text       0\n",
       "dtype: int64"
      ]
     },
     "execution_count": 24,
     "metadata": {},
     "output_type": "execute_result"
    }
   ],
   "source": [
    "df.isnull().sum()"
   ]
  },
  {
   "cell_type": "code",
   "execution_count": 25,
   "metadata": {
    "ExecuteTime": {
     "end_time": "2021-01-13T00:31:43.519968Z",
     "start_time": "2021-01-13T00:31:37.519013Z"
    }
   },
   "outputs": [],
   "source": [
    "emb_text = pd.DataFrame(df['emb_text'].map(json.loads).to_list(),\n",
    "                        columns=[f\"emb_text_{i}\" for i in range(300)])\n",
    "\n",
    "emb_title = pd.DataFrame(np.array(df['emb_title'].map(json.loads).to_list()),\n",
    "                         columns=[f\"emb_title_{i}\" for i in range(300)])"
   ]
  },
  {
   "cell_type": "code",
   "execution_count": 26,
   "metadata": {
    "ExecuteTime": {
     "end_time": "2021-01-13T00:31:43.617405Z",
     "start_time": "2021-01-13T00:31:43.588843Z"
    }
   },
   "outputs": [
    {
     "data": {
      "text/html": [
       "<div>\n",
       "<style scoped>\n",
       "    .dataframe tbody tr th:only-of-type {\n",
       "        vertical-align: middle;\n",
       "    }\n",
       "\n",
       "    .dataframe tbody tr th {\n",
       "        vertical-align: top;\n",
       "    }\n",
       "\n",
       "    .dataframe thead th {\n",
       "        text-align: right;\n",
       "    }\n",
       "</style>\n",
       "<table border=\"1\" class=\"dataframe\">\n",
       "  <thead>\n",
       "    <tr style=\"text-align: right;\">\n",
       "      <th></th>\n",
       "      <th>LIKES</th>\n",
       "      <th>COMMENTS</th>\n",
       "      <th>target</th>\n",
       "      <th>sin_hour</th>\n",
       "      <th>cos_hour</th>\n",
       "      <th>cos_month</th>\n",
       "      <th>sin_month</th>\n",
       "      <th>cos_weekday</th>\n",
       "      <th>sin_weekday</th>\n",
       "      <th>emb_text_0</th>\n",
       "      <th>...</th>\n",
       "      <th>emb_title_290</th>\n",
       "      <th>emb_title_291</th>\n",
       "      <th>emb_title_292</th>\n",
       "      <th>emb_title_293</th>\n",
       "      <th>emb_title_294</th>\n",
       "      <th>emb_title_295</th>\n",
       "      <th>emb_title_296</th>\n",
       "      <th>emb_title_297</th>\n",
       "      <th>emb_title_298</th>\n",
       "      <th>emb_title_299</th>\n",
       "    </tr>\n",
       "  </thead>\n",
       "  <tbody>\n",
       "    <tr>\n",
       "      <th>0</th>\n",
       "      <td>0.0</td>\n",
       "      <td>50</td>\n",
       "      <td>7</td>\n",
       "      <td>-5.000000e-01</td>\n",
       "      <td>8.660254e-01</td>\n",
       "      <td>0.5</td>\n",
       "      <td>0.866025</td>\n",
       "      <td>-0.222521</td>\n",
       "      <td>-0.974928</td>\n",
       "      <td>0.016769</td>\n",
       "      <td>...</td>\n",
       "      <td>-0.006696</td>\n",
       "      <td>0.007845</td>\n",
       "      <td>-0.022188</td>\n",
       "      <td>-0.030541</td>\n",
       "      <td>0.033095</td>\n",
       "      <td>0.005611</td>\n",
       "      <td>0.079799</td>\n",
       "      <td>-0.060192</td>\n",
       "      <td>0.025157</td>\n",
       "      <td>-0.014475</td>\n",
       "    </tr>\n",
       "    <tr>\n",
       "      <th>1</th>\n",
       "      <td>-39.0</td>\n",
       "      <td>152</td>\n",
       "      <td>7</td>\n",
       "      <td>-1.000000e+00</td>\n",
       "      <td>-1.836970e-16</td>\n",
       "      <td>0.5</td>\n",
       "      <td>0.866025</td>\n",
       "      <td>-0.222521</td>\n",
       "      <td>-0.974928</td>\n",
       "      <td>0.027725</td>\n",
       "      <td>...</td>\n",
       "      <td>0.009607</td>\n",
       "      <td>0.032843</td>\n",
       "      <td>-0.062798</td>\n",
       "      <td>-0.040111</td>\n",
       "      <td>-0.056778</td>\n",
       "      <td>-0.000490</td>\n",
       "      <td>-0.004771</td>\n",
       "      <td>0.044609</td>\n",
       "      <td>0.044650</td>\n",
       "      <td>0.067494</td>\n",
       "    </tr>\n",
       "    <tr>\n",
       "      <th>2</th>\n",
       "      <td>186.0</td>\n",
       "      <td>30</td>\n",
       "      <td>7</td>\n",
       "      <td>1.224647e-16</td>\n",
       "      <td>-1.000000e+00</td>\n",
       "      <td>0.5</td>\n",
       "      <td>0.866025</td>\n",
       "      <td>-0.222521</td>\n",
       "      <td>-0.974928</td>\n",
       "      <td>0.027246</td>\n",
       "      <td>...</td>\n",
       "      <td>-0.017774</td>\n",
       "      <td>0.024428</td>\n",
       "      <td>-0.010970</td>\n",
       "      <td>-0.017435</td>\n",
       "      <td>-0.016049</td>\n",
       "      <td>-0.002617</td>\n",
       "      <td>0.025836</td>\n",
       "      <td>0.001839</td>\n",
       "      <td>-0.010091</td>\n",
       "      <td>-0.012859</td>\n",
       "    </tr>\n",
       "    <tr>\n",
       "      <th>3</th>\n",
       "      <td>48.0</td>\n",
       "      <td>33</td>\n",
       "      <td>7</td>\n",
       "      <td>1.224647e-16</td>\n",
       "      <td>-1.000000e+00</td>\n",
       "      <td>0.5</td>\n",
       "      <td>0.866025</td>\n",
       "      <td>-0.222521</td>\n",
       "      <td>-0.974928</td>\n",
       "      <td>0.037644</td>\n",
       "      <td>...</td>\n",
       "      <td>0.003854</td>\n",
       "      <td>0.045091</td>\n",
       "      <td>0.015493</td>\n",
       "      <td>-0.021446</td>\n",
       "      <td>0.014062</td>\n",
       "      <td>-0.003290</td>\n",
       "      <td>0.072985</td>\n",
       "      <td>-0.022510</td>\n",
       "      <td>0.031925</td>\n",
       "      <td>0.009049</td>\n",
       "    </tr>\n",
       "    <tr>\n",
       "      <th>4</th>\n",
       "      <td>27.0</td>\n",
       "      <td>57</td>\n",
       "      <td>7</td>\n",
       "      <td>1.224647e-16</td>\n",
       "      <td>-1.000000e+00</td>\n",
       "      <td>0.5</td>\n",
       "      <td>0.866025</td>\n",
       "      <td>-0.222521</td>\n",
       "      <td>-0.974928</td>\n",
       "      <td>0.033379</td>\n",
       "      <td>...</td>\n",
       "      <td>-0.028516</td>\n",
       "      <td>0.010097</td>\n",
       "      <td>-0.012332</td>\n",
       "      <td>-0.029570</td>\n",
       "      <td>0.022079</td>\n",
       "      <td>-0.014889</td>\n",
       "      <td>0.041341</td>\n",
       "      <td>-0.025642</td>\n",
       "      <td>-0.012887</td>\n",
       "      <td>-0.030432</td>\n",
       "    </tr>\n",
       "  </tbody>\n",
       "</table>\n",
       "<p>5 rows × 609 columns</p>\n",
       "</div>"
      ],
      "text/plain": [
       "   LIKES  COMMENTS  target      sin_hour      cos_hour  cos_month  sin_month  \\\n",
       "0    0.0        50       7 -5.000000e-01  8.660254e-01        0.5   0.866025   \n",
       "1  -39.0       152       7 -1.000000e+00 -1.836970e-16        0.5   0.866025   \n",
       "2  186.0        30       7  1.224647e-16 -1.000000e+00        0.5   0.866025   \n",
       "3   48.0        33       7  1.224647e-16 -1.000000e+00        0.5   0.866025   \n",
       "4   27.0        57       7  1.224647e-16 -1.000000e+00        0.5   0.866025   \n",
       "\n",
       "   cos_weekday  sin_weekday  emb_text_0  ...  emb_title_290  emb_title_291  \\\n",
       "0    -0.222521    -0.974928    0.016769  ...      -0.006696       0.007845   \n",
       "1    -0.222521    -0.974928    0.027725  ...       0.009607       0.032843   \n",
       "2    -0.222521    -0.974928    0.027246  ...      -0.017774       0.024428   \n",
       "3    -0.222521    -0.974928    0.037644  ...       0.003854       0.045091   \n",
       "4    -0.222521    -0.974928    0.033379  ...      -0.028516       0.010097   \n",
       "\n",
       "   emb_title_292  emb_title_293  emb_title_294  emb_title_295  emb_title_296  \\\n",
       "0      -0.022188      -0.030541       0.033095       0.005611       0.079799   \n",
       "1      -0.062798      -0.040111      -0.056778      -0.000490      -0.004771   \n",
       "2      -0.010970      -0.017435      -0.016049      -0.002617       0.025836   \n",
       "3       0.015493      -0.021446       0.014062      -0.003290       0.072985   \n",
       "4      -0.012332      -0.029570       0.022079      -0.014889       0.041341   \n",
       "\n",
       "   emb_title_297  emb_title_298  emb_title_299  \n",
       "0      -0.060192       0.025157      -0.014475  \n",
       "1       0.044609       0.044650       0.067494  \n",
       "2       0.001839      -0.010091      -0.012859  \n",
       "3      -0.022510       0.031925       0.009049  \n",
       "4      -0.025642      -0.012887      -0.030432  \n",
       "\n",
       "[5 rows x 609 columns]"
      ]
     },
     "execution_count": 26,
     "metadata": {},
     "output_type": "execute_result"
    }
   ],
   "source": [
    "df_embedded = pd.concat([df.drop(columns=['emb_title', 'emb_text']).reset_index(drop=True),\n",
    "                         emb_text, emb_title], axis=1)\n",
    "df_embedded.head()"
   ]
  },
  {
   "cell_type": "code",
   "execution_count": 27,
   "metadata": {
    "ExecuteTime": {
     "end_time": "2021-01-13T00:31:59.446869Z",
     "start_time": "2021-01-13T00:31:43.622603Z"
    }
   },
   "outputs": [],
   "source": [
    "df_embedded.to_csv(f\"{PROJECT_PATHS.data}\\\\processed\\\\final_embeded.csv\")"
   ]
  }
 ],
 "metadata": {
  "kernelspec": {
   "display_name": "Python 3",
   "language": "python",
   "name": "python3"
  },
  "language_info": {
   "codemirror_mode": {
    "name": "ipython",
    "version": 3
   },
   "file_extension": ".py",
   "mimetype": "text/x-python",
   "name": "python",
   "nbconvert_exporter": "python",
   "pygments_lexer": "ipython3",
   "version": "3.9.4"
  },
  "varInspector": {
   "cols": {
    "lenName": 16,
    "lenType": 16,
    "lenVar": 40
   },
   "kernels_config": {
    "python": {
     "delete_cmd_postfix": "",
     "delete_cmd_prefix": "del ",
     "library": "var_list.py",
     "varRefreshCmd": "print(var_dic_list())"
    },
    "r": {
     "delete_cmd_postfix": ") ",
     "delete_cmd_prefix": "rm(",
     "library": "var_list.r",
     "varRefreshCmd": "cat(var_dic_list()) "
    }
   },
   "types_to_exclude": [
    "module",
    "function",
    "builtin_function_or_method",
    "instance",
    "_Feature"
   ],
   "window_display": false
  }
 },
 "nbformat": 4,
 "nbformat_minor": 4
}
