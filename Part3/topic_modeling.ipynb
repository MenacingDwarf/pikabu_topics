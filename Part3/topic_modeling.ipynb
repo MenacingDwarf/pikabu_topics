{
 "cells": [
  {
   "cell_type": "markdown",
   "metadata": {},
   "source": [
    "## Prepare train and test"
   ]
  },
  {
   "cell_type": "code",
   "execution_count": 1,
   "metadata": {
    "ExecuteTime": {
     "end_time": "2021-01-13T09:46:50.546004Z",
     "start_time": "2021-01-13T09:46:50.513793Z"
    }
   },
   "outputs": [],
   "source": [
    "%load_ext autoreload\n",
    "%autoreload 2"
   ]
  },
  {
   "cell_type": "code",
   "execution_count": 2,
   "metadata": {},
   "outputs": [],
   "source": [
    "import sys\n",
    "sys.path.insert(1, '../src')\n",
    "from src import PROJECT_PATHS"
   ]
  },
  {
   "cell_type": "code",
   "execution_count": 3,
   "metadata": {
    "ExecuteTime": {
     "end_time": "2021-01-13T09:46:51.150524Z",
     "start_time": "2021-01-13T09:46:50.671249Z"
    }
   },
   "outputs": [],
   "source": [
    "import pandas as pd\n",
    "import numpy as np"
   ]
  },
  {
   "cell_type": "code",
   "execution_count": 4,
   "metadata": {
    "ExecuteTime": {
     "end_time": "2021-01-13T09:46:51.712590Z",
     "start_time": "2021-01-13T09:46:51.155112Z"
    }
   },
   "outputs": [],
   "source": [
    "from sklearn.pipeline import Pipeline"
   ]
  },
  {
   "cell_type": "code",
   "execution_count": 5,
   "metadata": {
    "ExecuteTime": {
     "end_time": "2021-01-13T09:46:51.796416Z",
     "start_time": "2021-01-13T09:46:51.715692Z"
    }
   },
   "outputs": [],
   "source": [
    "from sklearn.svm import SVC\n",
    "from sklearn.preprocessing import StandardScaler\n",
    "from sklearn.model_selection import train_test_split\n",
    "from sklearn.pipeline import Pipeline"
   ]
  },
  {
   "cell_type": "code",
   "execution_count": 6,
   "metadata": {
    "ExecuteTime": {
     "end_time": "2021-01-13T10:44:35.755198Z",
     "start_time": "2021-01-13T10:44:32.433340Z"
    }
   },
   "outputs": [
    {
     "data": {
      "text/html": [
       "<div>\n",
       "<style scoped>\n",
       "    .dataframe tbody tr th:only-of-type {\n",
       "        vertical-align: middle;\n",
       "    }\n",
       "\n",
       "    .dataframe tbody tr th {\n",
       "        vertical-align: top;\n",
       "    }\n",
       "\n",
       "    .dataframe thead th {\n",
       "        text-align: right;\n",
       "    }\n",
       "</style>\n",
       "<table border=\"1\" class=\"dataframe\">\n",
       "  <thead>\n",
       "    <tr style=\"text-align: right;\">\n",
       "      <th></th>\n",
       "      <th>LIKES</th>\n",
       "      <th>COMMENTS</th>\n",
       "      <th>target</th>\n",
       "      <th>sin_hour</th>\n",
       "      <th>cos_hour</th>\n",
       "      <th>cos_month</th>\n",
       "      <th>sin_month</th>\n",
       "      <th>cos_weekday</th>\n",
       "      <th>sin_weekday</th>\n",
       "      <th>emb_text_0</th>\n",
       "      <th>...</th>\n",
       "      <th>emb_title_290</th>\n",
       "      <th>emb_title_291</th>\n",
       "      <th>emb_title_292</th>\n",
       "      <th>emb_title_293</th>\n",
       "      <th>emb_title_294</th>\n",
       "      <th>emb_title_295</th>\n",
       "      <th>emb_title_296</th>\n",
       "      <th>emb_title_297</th>\n",
       "      <th>emb_title_298</th>\n",
       "      <th>emb_title_299</th>\n",
       "    </tr>\n",
       "  </thead>\n",
       "  <tbody>\n",
       "    <tr>\n",
       "      <th>0</th>\n",
       "      <td>0.0</td>\n",
       "      <td>50</td>\n",
       "      <td>7</td>\n",
       "      <td>-5.000000e-01</td>\n",
       "      <td>8.660254e-01</td>\n",
       "      <td>0.5</td>\n",
       "      <td>0.866025</td>\n",
       "      <td>-0.222521</td>\n",
       "      <td>-0.974928</td>\n",
       "      <td>0.016769</td>\n",
       "      <td>...</td>\n",
       "      <td>-0.006696</td>\n",
       "      <td>0.007845</td>\n",
       "      <td>-0.022188</td>\n",
       "      <td>-0.030541</td>\n",
       "      <td>0.033095</td>\n",
       "      <td>0.005611</td>\n",
       "      <td>0.079799</td>\n",
       "      <td>-0.060192</td>\n",
       "      <td>0.025157</td>\n",
       "      <td>-0.014475</td>\n",
       "    </tr>\n",
       "    <tr>\n",
       "      <th>1</th>\n",
       "      <td>-39.0</td>\n",
       "      <td>152</td>\n",
       "      <td>7</td>\n",
       "      <td>-1.000000e+00</td>\n",
       "      <td>-1.836970e-16</td>\n",
       "      <td>0.5</td>\n",
       "      <td>0.866025</td>\n",
       "      <td>-0.222521</td>\n",
       "      <td>-0.974928</td>\n",
       "      <td>0.027725</td>\n",
       "      <td>...</td>\n",
       "      <td>0.009607</td>\n",
       "      <td>0.032843</td>\n",
       "      <td>-0.062798</td>\n",
       "      <td>-0.040111</td>\n",
       "      <td>-0.056778</td>\n",
       "      <td>-0.000490</td>\n",
       "      <td>-0.004771</td>\n",
       "      <td>0.044609</td>\n",
       "      <td>0.044650</td>\n",
       "      <td>0.067494</td>\n",
       "    </tr>\n",
       "    <tr>\n",
       "      <th>2</th>\n",
       "      <td>186.0</td>\n",
       "      <td>30</td>\n",
       "      <td>7</td>\n",
       "      <td>1.224647e-16</td>\n",
       "      <td>-1.000000e+00</td>\n",
       "      <td>0.5</td>\n",
       "      <td>0.866025</td>\n",
       "      <td>-0.222521</td>\n",
       "      <td>-0.974928</td>\n",
       "      <td>0.027246</td>\n",
       "      <td>...</td>\n",
       "      <td>-0.017774</td>\n",
       "      <td>0.024428</td>\n",
       "      <td>-0.010970</td>\n",
       "      <td>-0.017435</td>\n",
       "      <td>-0.016049</td>\n",
       "      <td>-0.002617</td>\n",
       "      <td>0.025836</td>\n",
       "      <td>0.001839</td>\n",
       "      <td>-0.010091</td>\n",
       "      <td>-0.012859</td>\n",
       "    </tr>\n",
       "    <tr>\n",
       "      <th>3</th>\n",
       "      <td>48.0</td>\n",
       "      <td>33</td>\n",
       "      <td>7</td>\n",
       "      <td>1.224647e-16</td>\n",
       "      <td>-1.000000e+00</td>\n",
       "      <td>0.5</td>\n",
       "      <td>0.866025</td>\n",
       "      <td>-0.222521</td>\n",
       "      <td>-0.974928</td>\n",
       "      <td>0.037644</td>\n",
       "      <td>...</td>\n",
       "      <td>0.003854</td>\n",
       "      <td>0.045091</td>\n",
       "      <td>0.015493</td>\n",
       "      <td>-0.021446</td>\n",
       "      <td>0.014062</td>\n",
       "      <td>-0.003290</td>\n",
       "      <td>0.072985</td>\n",
       "      <td>-0.022510</td>\n",
       "      <td>0.031925</td>\n",
       "      <td>0.009049</td>\n",
       "    </tr>\n",
       "    <tr>\n",
       "      <th>4</th>\n",
       "      <td>27.0</td>\n",
       "      <td>57</td>\n",
       "      <td>7</td>\n",
       "      <td>1.224647e-16</td>\n",
       "      <td>-1.000000e+00</td>\n",
       "      <td>0.5</td>\n",
       "      <td>0.866025</td>\n",
       "      <td>-0.222521</td>\n",
       "      <td>-0.974928</td>\n",
       "      <td>0.033379</td>\n",
       "      <td>...</td>\n",
       "      <td>-0.028516</td>\n",
       "      <td>0.010097</td>\n",
       "      <td>-0.012332</td>\n",
       "      <td>-0.029570</td>\n",
       "      <td>0.022079</td>\n",
       "      <td>-0.014889</td>\n",
       "      <td>0.041341</td>\n",
       "      <td>-0.025642</td>\n",
       "      <td>-0.012887</td>\n",
       "      <td>-0.030432</td>\n",
       "    </tr>\n",
       "  </tbody>\n",
       "</table>\n",
       "<p>5 rows × 609 columns</p>\n",
       "</div>"
      ],
      "text/plain": [
       "   LIKES  COMMENTS  target      sin_hour      cos_hour  cos_month  sin_month  \\\n",
       "0    0.0        50       7 -5.000000e-01  8.660254e-01        0.5   0.866025   \n",
       "1  -39.0       152       7 -1.000000e+00 -1.836970e-16        0.5   0.866025   \n",
       "2  186.0        30       7  1.224647e-16 -1.000000e+00        0.5   0.866025   \n",
       "3   48.0        33       7  1.224647e-16 -1.000000e+00        0.5   0.866025   \n",
       "4   27.0        57       7  1.224647e-16 -1.000000e+00        0.5   0.866025   \n",
       "\n",
       "   cos_weekday  sin_weekday  emb_text_0  ...  emb_title_290  emb_title_291  \\\n",
       "0    -0.222521    -0.974928    0.016769  ...      -0.006696       0.007845   \n",
       "1    -0.222521    -0.974928    0.027725  ...       0.009607       0.032843   \n",
       "2    -0.222521    -0.974928    0.027246  ...      -0.017774       0.024428   \n",
       "3    -0.222521    -0.974928    0.037644  ...       0.003854       0.045091   \n",
       "4    -0.222521    -0.974928    0.033379  ...      -0.028516       0.010097   \n",
       "\n",
       "   emb_title_292  emb_title_293  emb_title_294  emb_title_295  emb_title_296  \\\n",
       "0      -0.022188      -0.030541       0.033095       0.005611       0.079799   \n",
       "1      -0.062798      -0.040111      -0.056778      -0.000490      -0.004771   \n",
       "2      -0.010970      -0.017435      -0.016049      -0.002617       0.025836   \n",
       "3       0.015493      -0.021446       0.014062      -0.003290       0.072985   \n",
       "4      -0.012332      -0.029570       0.022079      -0.014889       0.041341   \n",
       "\n",
       "   emb_title_297  emb_title_298  emb_title_299  \n",
       "0      -0.060192       0.025157      -0.014475  \n",
       "1       0.044609       0.044650       0.067494  \n",
       "2       0.001839      -0.010091      -0.012859  \n",
       "3      -0.022510       0.031925       0.009049  \n",
       "4      -0.025642      -0.012887      -0.030432  \n",
       "\n",
       "[5 rows x 609 columns]"
      ]
     },
     "execution_count": 6,
     "metadata": {},
     "output_type": "execute_result"
    }
   ],
   "source": [
    "df = pd.read_csv(f\"{PROJECT_PATHS.data}\\\\processed\\\\final_embeded.csv\", index_col=0)\n",
    "df.head()"
   ]
  },
  {
   "cell_type": "code",
   "execution_count": 7,
   "metadata": {
    "ExecuteTime": {
     "end_time": "2021-01-13T10:44:35.861734Z",
     "start_time": "2021-01-13T10:44:35.758115Z"
    }
   },
   "outputs": [],
   "source": [
    "X, y = df.drop(columns=['target']), df['target']"
   ]
  },
  {
   "cell_type": "code",
   "execution_count": 8,
   "metadata": {
    "ExecuteTime": {
     "end_time": "2021-01-13T10:44:36.040182Z",
     "start_time": "2021-01-13T10:44:35.865112Z"
    }
   },
   "outputs": [],
   "source": [
    "X_train, X_test, y_train, y_test = train_test_split(X, y, random_state=0, stratify=y)"
   ]
  },
  {
   "cell_type": "code",
   "execution_count": 9,
   "metadata": {
    "ExecuteTime": {
     "end_time": "2021-01-13T10:44:36.067006Z",
     "start_time": "2021-01-13T10:44:36.043220Z"
    }
   },
   "outputs": [
    {
     "data": {
      "text/plain": [
       "23895"
      ]
     },
     "execution_count": 9,
     "metadata": {},
     "output_type": "execute_result"
    }
   ],
   "source": [
    "len(X_test)"
   ]
  },
  {
   "cell_type": "markdown",
   "metadata": {},
   "source": [
    "## Classification"
   ]
  },
  {
   "cell_type": "markdown",
   "metadata": {},
   "source": [
    "### SVC"
   ]
  },
  {
   "cell_type": "code",
   "execution_count": 21,
   "metadata": {
    "ExecuteTime": {
     "end_time": "2021-01-13T10:44:36.098960Z",
     "start_time": "2021-01-13T10:44:36.070273Z"
    }
   },
   "outputs": [],
   "source": [
    "pipe = Pipeline(\n",
    "    [\n",
    "        ('scaler', StandardScaler()),\n",
    "        ('svc', SVC())\n",
    "    ]\n",
    ")"
   ]
  },
  {
   "cell_type": "code",
   "execution_count": 22,
   "metadata": {
    "ExecuteTime": {
     "end_time": "2021-01-13T10:47:38.942058Z",
     "start_time": "2021-01-13T10:44:36.103002Z"
    }
   },
   "outputs": [
    {
     "data": {
      "text/plain": [
       "Pipeline(steps=[('scaler', StandardScaler()), ('svc', SVC())])"
      ]
     },
     "execution_count": 22,
     "metadata": {},
     "output_type": "execute_result"
    }
   ],
   "source": [
    "pipe.fit(X_train, y_train)"
   ]
  },
  {
   "cell_type": "code",
   "execution_count": 23,
   "metadata": {
    "ExecuteTime": {
     "end_time": "2021-01-13T10:49:13.355815Z",
     "start_time": "2021-01-13T10:47:38.946234Z"
    }
   },
   "outputs": [
    {
     "data": {
      "text/plain": [
       "0.6847876124712283"
      ]
     },
     "execution_count": 23,
     "metadata": {},
     "output_type": "execute_result"
    }
   ],
   "source": [
    "pipe.score(X_test, y_test)"
   ]
  },
  {
   "cell_type": "markdown",
   "metadata": {},
   "source": [
    "### LogisticRegression"
   ]
  },
  {
   "cell_type": "code",
   "execution_count": 17,
   "metadata": {
    "ExecuteTime": {
     "end_time": "2021-01-13T10:49:13.382997Z",
     "start_time": "2021-01-13T10:49:13.358780Z"
    }
   },
   "outputs": [],
   "source": [
    "from sklearn.linear_model import LogisticRegression"
   ]
  },
  {
   "cell_type": "code",
   "execution_count": 18,
   "metadata": {
    "ExecuteTime": {
     "end_time": "2021-01-13T10:49:23.180255Z",
     "start_time": "2021-01-13T10:49:13.386586Z"
    }
   },
   "outputs": [
    {
     "name": "stderr",
     "output_type": "stream",
     "text": [
      "c:\\users\\stanislav\\appdata\\local\\programs\\python\\python39\\lib\\site-packages\\sklearn\\linear_model\\_logistic.py:763: ConvergenceWarning: lbfgs failed to converge (status=1):\n",
      "STOP: TOTAL NO. of ITERATIONS REACHED LIMIT.\n",
      "\n",
      "Increase the number of iterations (max_iter) or scale the data as shown in:\n",
      "    https://scikit-learn.org/stable/modules/preprocessing.html\n",
      "Please also refer to the documentation for alternative solver options:\n",
      "    https://scikit-learn.org/stable/modules/linear_model.html#logistic-regression\n",
      "  n_iter_i = _check_optimize_result(\n"
     ]
    },
    {
     "data": {
      "text/plain": [
       "0.6848294622305922"
      ]
     },
     "execution_count": 18,
     "metadata": {},
     "output_type": "execute_result"
    }
   ],
   "source": [
    "pipe = Pipeline(\n",
    "    [\n",
    "        ('scaler', StandardScaler()),\n",
    "        ('svc', LogisticRegression())\n",
    "    ]\n",
    ")\n",
    "pipe.fit(X_train, y_train)\n",
    "pipe.score(X_test, y_test)"
   ]
  },
  {
   "cell_type": "markdown",
   "metadata": {},
   "source": [
    "### LDA"
   ]
  },
  {
   "cell_type": "code",
   "execution_count": 19,
   "metadata": {
    "ExecuteTime": {
     "end_time": "2021-01-13T10:49:23.268281Z",
     "start_time": "2021-01-13T10:49:23.183723Z"
    }
   },
   "outputs": [],
   "source": [
    "from sklearn.discriminant_analysis import LinearDiscriminantAnalysis as LDA"
   ]
  },
  {
   "cell_type": "code",
   "execution_count": 20,
   "metadata": {
    "ExecuteTime": {
     "end_time": "2021-01-13T10:49:25.880344Z",
     "start_time": "2021-01-13T10:49:23.274618Z"
    }
   },
   "outputs": [
    {
     "data": {
      "text/plain": [
       "0.6759991630048128"
      ]
     },
     "execution_count": 20,
     "metadata": {},
     "output_type": "execute_result"
    }
   ],
   "source": [
    "pipe = Pipeline(\n",
    "    [\n",
    "        ('scaler', StandardScaler()),\n",
    "        ('svc', LDA())\n",
    "    ]\n",
    ")\n",
    "pipe.fit(X_train, y_train)\n",
    "pipe.score(X_test, y_test)"
   ]
  },
  {
   "cell_type": "markdown",
   "metadata": {},
   "source": [
    "## TopicModeling"
   ]
  },
  {
   "cell_type": "markdown",
   "metadata": {},
   "source": [
    "### LDA"
   ]
  },
  {
   "cell_type": "markdown",
   "metadata": {},
   "source": [
    "Remove the stop words from the texts, apply lemmatization. After that, let's look at the top 10 words in each topic modeled by the LDA algorithm."
   ]
  },
  {
   "cell_type": "code",
   "execution_count": 80,
   "metadata": {
    "ExecuteTime": {
     "end_time": "2021-01-13T09:46:59.260082Z",
     "start_time": "2021-01-13T09:46:58.393417Z"
    }
   },
   "outputs": [
    {
     "name": "stderr",
     "output_type": "stream",
     "text": [
      "[nltk_data] Downloading package stopwords to\n",
      "[nltk_data]     C:\\Users\\Stanislav\\AppData\\Roaming\\nltk_data...\n",
      "[nltk_data]   Package stopwords is already up-to-date!\n",
      "[nltk_data] Downloading package wordnet to\n",
      "[nltk_data]     C:\\Users\\Stanislav\\AppData\\Roaming\\nltk_data...\n",
      "[nltk_data]   Package wordnet is already up-to-date!\n"
     ]
    }
   ],
   "source": [
    "import nltk\n",
    "nltk.download('stopwords')\n",
    "nltk.download('wordnet')\n",
    "\n",
    "from nltk.corpus import stopwords\n",
    "sw = stopwords.words(\"russian\")\n",
    "\n",
    "def remove_stop_words(words_list):\n",
    "    return [x for x in words_list if x not in sw]"
   ]
  },
  {
   "cell_type": "code",
   "execution_count": 81,
   "metadata": {
    "ExecuteTime": {
     "end_time": "2021-01-13T10:00:04.566898Z",
     "start_time": "2021-01-13T09:46:59.264045Z"
    }
   },
   "outputs": [],
   "source": [
    "import re\n",
    "from sklearn.feature_extraction.text import TfidfVectorizer\n",
    "\n",
    "df = pd.read_csv(f\"{PROJECT_PATHS.data}\\\\processed\\\\preprocessed.csv\", index_col=0)"
   ]
  },
  {
   "cell_type": "code",
   "execution_count": 82,
   "metadata": {},
   "outputs": [],
   "source": [
    "df_oh = df.loc[:, ['TEXT', 'target']]"
   ]
  },
  {
   "cell_type": "code",
   "execution_count": 94,
   "metadata": {},
   "outputs": [
    {
     "ename": "TypeError",
     "evalue": "sequence item 0: expected str instance, list found",
     "output_type": "error",
     "traceback": [
      "\u001b[1;31m---------------------------------------------------------------------------\u001b[0m",
      "\u001b[1;31mTypeError\u001b[0m                                 Traceback (most recent call last)",
      "\u001b[1;32m<ipython-input-94-e7b7760c26f0>\u001b[0m in \u001b[0;36m<module>\u001b[1;34m\u001b[0m\n\u001b[0;32m      4\u001b[0m \u001b[1;33m\u001b[0m\u001b[0m\n\u001b[0;32m      5\u001b[0m \u001b[1;31m#df_oh.loc[:, 'cleared_text'] = df_oh['TEXT'].map(lambda x: re.sub('\\d+', '0', str(x)))\u001b[0m\u001b[1;33m\u001b[0m\u001b[1;33m\u001b[0m\u001b[1;33m\u001b[0m\u001b[0m\n\u001b[1;32m----> 6\u001b[1;33m \u001b[0mnewLine\u001b[0m \u001b[1;33m=\u001b[0m \u001b[0mdf_oh\u001b[0m\u001b[1;33m.\u001b[0m\u001b[0mhead\u001b[0m\u001b[1;33m(\u001b[0m\u001b[1;36m2\u001b[0m\u001b[1;33m)\u001b[0m\u001b[1;33m[\u001b[0m\u001b[1;34m'TEXT'\u001b[0m\u001b[1;33m]\u001b[0m\u001b[1;33m.\u001b[0m\u001b[0mapply\u001b[0m\u001b[1;33m(\u001b[0m\u001b[1;32mlambda\u001b[0m \u001b[0mx\u001b[0m\u001b[1;33m:\u001b[0m \u001b[1;34m\" \"\u001b[0m\u001b[1;33m.\u001b[0m\u001b[0mjoin\u001b[0m\u001b[1;33m(\u001b[0m\u001b[0mmystem\u001b[0m\u001b[1;33m.\u001b[0m\u001b[0mlemmatize\u001b[0m\u001b[1;33m(\u001b[0m\u001b[0mword\u001b[0m\u001b[1;33m)\u001b[0m \u001b[1;32mfor\u001b[0m \u001b[0mword\u001b[0m \u001b[1;32min\u001b[0m \u001b[0mstr\u001b[0m\u001b[1;33m(\u001b[0m\u001b[0mx\u001b[0m\u001b[1;33m)\u001b[0m\u001b[1;33m.\u001b[0m\u001b[0msplit\u001b[0m\u001b[1;33m(\u001b[0m\u001b[1;34m\" \"\u001b[0m\u001b[1;33m)\u001b[0m\u001b[1;33m)\u001b[0m\u001b[1;33m)\u001b[0m\u001b[1;33m\u001b[0m\u001b[1;33m\u001b[0m\u001b[0m\n\u001b[0m\u001b[0;32m      7\u001b[0m \u001b[0mnewLine\u001b[0m\u001b[1;33m.\u001b[0m\u001b[0mtolist\u001b[0m\u001b[1;33m(\u001b[0m\u001b[1;33m)\u001b[0m\u001b[1;33m\u001b[0m\u001b[1;33m\u001b[0m\u001b[0m\n",
      "\u001b[1;32mc:\\users\\stanislav\\appdata\\local\\programs\\python\\python39\\lib\\site-packages\\pandas\\core\\series.py\u001b[0m in \u001b[0;36mapply\u001b[1;34m(self, func, convert_dtype, args, **kwds)\u001b[0m\n\u001b[0;32m   4136\u001b[0m             \u001b[1;32melse\u001b[0m\u001b[1;33m:\u001b[0m\u001b[1;33m\u001b[0m\u001b[1;33m\u001b[0m\u001b[0m\n\u001b[0;32m   4137\u001b[0m                 \u001b[0mvalues\u001b[0m \u001b[1;33m=\u001b[0m \u001b[0mself\u001b[0m\u001b[1;33m.\u001b[0m\u001b[0mastype\u001b[0m\u001b[1;33m(\u001b[0m\u001b[0mobject\u001b[0m\u001b[1;33m)\u001b[0m\u001b[1;33m.\u001b[0m\u001b[0m_values\u001b[0m\u001b[1;33m\u001b[0m\u001b[1;33m\u001b[0m\u001b[0m\n\u001b[1;32m-> 4138\u001b[1;33m                 \u001b[0mmapped\u001b[0m \u001b[1;33m=\u001b[0m \u001b[0mlib\u001b[0m\u001b[1;33m.\u001b[0m\u001b[0mmap_infer\u001b[0m\u001b[1;33m(\u001b[0m\u001b[0mvalues\u001b[0m\u001b[1;33m,\u001b[0m \u001b[0mf\u001b[0m\u001b[1;33m,\u001b[0m \u001b[0mconvert\u001b[0m\u001b[1;33m=\u001b[0m\u001b[0mconvert_dtype\u001b[0m\u001b[1;33m)\u001b[0m\u001b[1;33m\u001b[0m\u001b[1;33m\u001b[0m\u001b[0m\n\u001b[0m\u001b[0;32m   4139\u001b[0m \u001b[1;33m\u001b[0m\u001b[0m\n\u001b[0;32m   4140\u001b[0m         \u001b[1;32mif\u001b[0m \u001b[0mlen\u001b[0m\u001b[1;33m(\u001b[0m\u001b[0mmapped\u001b[0m\u001b[1;33m)\u001b[0m \u001b[1;32mand\u001b[0m \u001b[0misinstance\u001b[0m\u001b[1;33m(\u001b[0m\u001b[0mmapped\u001b[0m\u001b[1;33m[\u001b[0m\u001b[1;36m0\u001b[0m\u001b[1;33m]\u001b[0m\u001b[1;33m,\u001b[0m \u001b[0mSeries\u001b[0m\u001b[1;33m)\u001b[0m\u001b[1;33m:\u001b[0m\u001b[1;33m\u001b[0m\u001b[1;33m\u001b[0m\u001b[0m\n",
      "\u001b[1;32mpandas\\_libs\\lib.pyx\u001b[0m in \u001b[0;36mpandas._libs.lib.map_infer\u001b[1;34m()\u001b[0m\n",
      "\u001b[1;32m<ipython-input-94-e7b7760c26f0>\u001b[0m in \u001b[0;36m<lambda>\u001b[1;34m(x)\u001b[0m\n\u001b[0;32m      4\u001b[0m \u001b[1;33m\u001b[0m\u001b[0m\n\u001b[0;32m      5\u001b[0m \u001b[1;31m#df_oh.loc[:, 'cleared_text'] = df_oh['TEXT'].map(lambda x: re.sub('\\d+', '0', str(x)))\u001b[0m\u001b[1;33m\u001b[0m\u001b[1;33m\u001b[0m\u001b[1;33m\u001b[0m\u001b[0m\n\u001b[1;32m----> 6\u001b[1;33m \u001b[0mnewLine\u001b[0m \u001b[1;33m=\u001b[0m \u001b[0mdf_oh\u001b[0m\u001b[1;33m.\u001b[0m\u001b[0mhead\u001b[0m\u001b[1;33m(\u001b[0m\u001b[1;36m2\u001b[0m\u001b[1;33m)\u001b[0m\u001b[1;33m[\u001b[0m\u001b[1;34m'TEXT'\u001b[0m\u001b[1;33m]\u001b[0m\u001b[1;33m.\u001b[0m\u001b[0mapply\u001b[0m\u001b[1;33m(\u001b[0m\u001b[1;32mlambda\u001b[0m \u001b[0mx\u001b[0m\u001b[1;33m:\u001b[0m \u001b[1;34m\" \"\u001b[0m\u001b[1;33m.\u001b[0m\u001b[0mjoin\u001b[0m\u001b[1;33m(\u001b[0m\u001b[0mmystem\u001b[0m\u001b[1;33m.\u001b[0m\u001b[0mlemmatize\u001b[0m\u001b[1;33m(\u001b[0m\u001b[0mword\u001b[0m\u001b[1;33m)\u001b[0m \u001b[1;32mfor\u001b[0m \u001b[0mword\u001b[0m \u001b[1;32min\u001b[0m \u001b[0mstr\u001b[0m\u001b[1;33m(\u001b[0m\u001b[0mx\u001b[0m\u001b[1;33m)\u001b[0m\u001b[1;33m.\u001b[0m\u001b[0msplit\u001b[0m\u001b[1;33m(\u001b[0m\u001b[1;34m\" \"\u001b[0m\u001b[1;33m)\u001b[0m\u001b[1;33m)\u001b[0m\u001b[1;33m)\u001b[0m\u001b[1;33m\u001b[0m\u001b[1;33m\u001b[0m\u001b[0m\n\u001b[0m\u001b[0;32m      7\u001b[0m \u001b[0mnewLine\u001b[0m\u001b[1;33m.\u001b[0m\u001b[0mtolist\u001b[0m\u001b[1;33m(\u001b[0m\u001b[1;33m)\u001b[0m\u001b[1;33m\u001b[0m\u001b[1;33m\u001b[0m\u001b[0m\n",
      "\u001b[1;31mTypeError\u001b[0m: sequence item 0: expected str instance, list found"
     ]
    }
   ],
   "source": [
    "from pymystem3 import Mystem\n",
    "\n",
    "mystem = Mystem() \n",
    "\n",
    "#df_oh.loc[:, 'cleared_text'] = df_oh['TEXT'].map(lambda x: re.sub('\\d+', '0', str(x)))\n",
    "df_oh['TEXT'] = df_oh['TEXT'].apply(lambda x: \" \".join(mystem.lemmatize(word) for word in str(x).split(\" \")))\n",
    "df_oh['TEXT'].tolist()"
   ]
  },
  {
   "cell_type": "code",
   "execution_count": 21,
   "metadata": {},
   "outputs": [
    {
     "name": "stderr",
     "output_type": "stream",
     "text": [
      "<ipython-input-21-9f0d706d396d>:1: SettingWithCopyWarning: \n",
      "A value is trying to be set on a copy of a slice from a DataFrame.\n",
      "Try using .loc[row_indexer,col_indexer] = value instead\n",
      "\n",
      "See the caveats in the documentation: https://pandas.pydata.org/pandas-docs/stable/user_guide/indexing.html#returning-a-view-versus-a-copy\n",
      "  df_oh['TEXT'] = df_oh['TEXT'].map(lambda x: \" \".join(remove_stop_words(x.split())))\n"
     ]
    }
   ],
   "source": [
    "df_oh['TEXT'] = df_oh['TEXT'].map(lambda x: \" \".join(remove_stop_words(x.split())))"
   ]
  },
  {
   "cell_type": "code",
   "execution_count": 41,
   "metadata": {},
   "outputs": [
    {
     "name": "stderr",
     "output_type": "stream",
     "text": [
      "<ipython-input-41-056f4790a99f>:1: SettingWithCopyWarning: \n",
      "A value is trying to be set on a copy of a slice from a DataFrame.\n",
      "Try using .loc[row_indexer,col_indexer] = value instead\n",
      "\n",
      "See the caveats in the documentation: https://pandas.pydata.org/pandas-docs/stable/user_guide/indexing.html#returning-a-view-versus-a-copy\n",
      "  df_oh['TEXT'] = df_oh['TEXT'].apply(lambda x: re.sub('\\d+', '0', x))\n"
     ]
    },
    {
     "data": {
      "text/html": [
       "<div>\n",
       "<style scoped>\n",
       "    .dataframe tbody tr th:only-of-type {\n",
       "        vertical-align: middle;\n",
       "    }\n",
       "\n",
       "    .dataframe tbody tr th {\n",
       "        vertical-align: top;\n",
       "    }\n",
       "\n",
       "    .dataframe thead th {\n",
       "        text-align: right;\n",
       "    }\n",
       "</style>\n",
       "<table border=\"1\" class=\"dataframe\">\n",
       "  <thead>\n",
       "    <tr style=\"text-align: right;\">\n",
       "      <th></th>\n",
       "      <th>TEXT</th>\n",
       "      <th>target</th>\n",
       "    </tr>\n",
       "  </thead>\n",
       "  <tbody>\n",
       "    <tr>\n",
       "      <th>0</th>\n",
       "      <td>мвд россии разработало порядок доставления нет...</td>\n",
       "      <td>7</td>\n",
       "    </tr>\n",
       "    <tr>\n",
       "      <th>1</th>\n",
       "      <td>хотите национализм шовинизм числе разжигание н...</td>\n",
       "      <td>7</td>\n",
       "    </tr>\n",
       "    <tr>\n",
       "      <th>2</th>\n",
       "      <td>депутаты томаринского городского округа юг сах...</td>\n",
       "      <td>7</td>\n",
       "    </tr>\n",
       "    <tr>\n",
       "      <th>3</th>\n",
       "      <td>глава «роскосмоса» дмитрий рогозин встрече пре...</td>\n",
       "      <td>7</td>\n",
       "    </tr>\n",
       "    <tr>\n",
       "      <th>4</th>\n",
       "      <td>москва 0 февраля тасс рф ждет реакцию великобр...</td>\n",
       "      <td>7</td>\n",
       "    </tr>\n",
       "  </tbody>\n",
       "</table>\n",
       "</div>"
      ],
      "text/plain": [
       "                                                TEXT  target\n",
       "0  мвд россии разработало порядок доставления нет...       7\n",
       "1  хотите национализм шовинизм числе разжигание н...       7\n",
       "2  депутаты томаринского городского округа юг сах...       7\n",
       "3  глава «роскосмоса» дмитрий рогозин встрече пре...       7\n",
       "4  москва 0 февраля тасс рф ждет реакцию великобр...       7"
      ]
     },
     "execution_count": 41,
     "metadata": {},
     "output_type": "execute_result"
    }
   ],
   "source": [
    "df_oh['TEXT'] = df_oh['TEXT'].apply(lambda x: re.sub('\\d+', '0', x))\n",
    "\n",
    "\n",
    "vectorizer = TfidfVectorizer()\n",
    "df_oh.head()"
   ]
  },
  {
   "cell_type": "code",
   "execution_count": 23,
   "metadata": {
    "ExecuteTime": {
     "end_time": "2021-01-13T10:00:13.068262Z",
     "start_time": "2021-01-13T10:00:04.570086Z"
    }
   },
   "outputs": [],
   "source": [
    "X_tf_idf = vectorizer.fit_transform(df_oh['TEXT'].tolist())"
   ]
  },
  {
   "cell_type": "code",
   "execution_count": 24,
   "metadata": {
    "ExecuteTime": {
     "end_time": "2021-01-13T12:19:27.370718Z",
     "start_time": "2021-01-13T12:17:18.375198Z"
    }
   },
   "outputs": [
    {
     "data": {
      "text/plain": [
       "LatentDirichletAllocation(n_components=8, random_state=1)"
      ]
     },
     "execution_count": 24,
     "metadata": {},
     "output_type": "execute_result"
    }
   ],
   "source": [
    "from sklearn.decomposition import LatentDirichletAllocation\n",
    "\n",
    "lda = LatentDirichletAllocation(n_components=8, random_state=1)\n",
    "lda.fit(X_tf_idf)"
   ]
  },
  {
   "cell_type": "code",
   "execution_count": 26,
   "metadata": {},
   "outputs": [
    {
     "name": "stdout",
     "output_type": "stream",
     "text": [
      "['аннель', 'ендрит', 'арвен', 'scp', 'протоклетка', 'семенихина', 'радуй', 'ивгур', 'поильник', 'негритёнка'] \n",
      "\n",
      "['баюн', 'ладислав', 'хьялдур', 'ермолай', 'шаройко', 'рукоблудием', 'пцу', 'буханкин', 'снорри', 'хамус'] \n",
      "\n",
      "['кисё', 'у0', 'басё', 'йес', 'въ', 'анкетыhttps', 'spreadsheet', 'h0jp0b0i', 'анкетамиhttps', 'fkjg'] \n",
      "\n",
      "['артес', 'гераськин', 'полуярок', 'марвин', 'morant', 'кобр', 'мересанк', 'вано', 'иша', 'пико'] \n",
      "\n",
      "['нe', 'нa', 'чтo', 'кaк', 'oн', 'тo', 'этo', 'нo', 'пo', 'тaк'] \n",
      "\n",
      "['украины', 'россии', 'сша', 'http', 'ru', 'украине', 'также', 'заявил', 'рф', 'власти'] \n",
      "\n",
      "['это', 'всё', 'очень', 'просто', 'лет', 'время', 'ещё', 'день', 'её', 'нам'] \n",
      "\n",
      "['kota', 'stranitsa', 'агидель', 'uchenogo', 'тутси', 'лп', 'зубенко', 'пашаев', 'covideo', 'катри'] \n",
      "\n"
     ]
    }
   ],
   "source": [
    "vocab = vectorizer.get_feature_names()\n",
    "\n",
    "n_top_words = 10\n",
    "\n",
    "topic_words = {}\n",
    "\n",
    "for topic, comp in enumerate(lda.components_):    \n",
    "    word_idx = np.argsort(comp)[::-1][:n_top_words]\n",
    "    print([vocab[x] for x in word_idx],\"\\n\")"
   ]
  },
  {
   "cell_type": "markdown",
   "metadata": {},
   "source": [
    "## Clustering"
   ]
  },
  {
   "cell_type": "markdown",
   "metadata": {},
   "source": [
    "### Kmeans-fasttext"
   ]
  },
  {
   "cell_type": "code",
   "execution_count": 26,
   "metadata": {
    "ExecuteTime": {
     "end_time": "2021-01-13T10:49:25.933218Z",
     "start_time": "2021-01-13T10:49:25.889859Z"
    }
   },
   "outputs": [],
   "source": [
    "from collections import Counter\n",
    "from sklearn.cluster import KMeans\n",
    "from sklearn import metrics"
   ]
  },
  {
   "cell_type": "code",
   "execution_count": 27,
   "metadata": {
    "ExecuteTime": {
     "end_time": "2021-01-13T10:49:33.994418Z",
     "start_time": "2021-01-13T10:49:25.948513Z"
    }
   },
   "outputs": [],
   "source": [
    "kmeans = KMeans(n_clusters=8).fit(X)"
   ]
  },
  {
   "cell_type": "code",
   "execution_count": 28,
   "metadata": {
    "ExecuteTime": {
     "end_time": "2021-01-13T10:49:34.493047Z",
     "start_time": "2021-01-13T10:49:33.996249Z"
    }
   },
   "outputs": [
    {
     "data": {
      "text/plain": [
       "array([3, 1, 1, ..., 1, 3, 3], dtype=int32)"
      ]
     },
     "execution_count": 28,
     "metadata": {},
     "output_type": "execute_result"
    }
   ],
   "source": [
    "kmeans.predict(X)"
   ]
  },
  {
   "cell_type": "code",
   "execution_count": 29,
   "metadata": {
    "ExecuteTime": {
     "end_time": "2021-01-13T10:49:34.544062Z",
     "start_time": "2021-01-13T10:49:34.495606Z"
    }
   },
   "outputs": [],
   "source": [
    "from sklearn import preprocessing\n",
    "le = preprocessing.LabelEncoder().fit(y)"
   ]
  },
  {
   "cell_type": "code",
   "execution_count": 30,
   "metadata": {
    "ExecuteTime": {
     "end_time": "2021-01-13T10:49:35.021069Z",
     "start_time": "2021-01-13T10:49:34.547939Z"
    },
    "scrolled": true
   },
   "outputs": [
    {
     "data": {
      "text/plain": [
       "array([0, 1, 2, 3, 4, 5, 6, 7], dtype=int32)"
      ]
     },
     "execution_count": 30,
     "metadata": {},
     "output_type": "execute_result"
    }
   ],
   "source": [
    "np.unique(kmeans.predict(X))"
   ]
  },
  {
   "cell_type": "code",
   "execution_count": 31,
   "metadata": {
    "ExecuteTime": {
     "end_time": "2021-01-13T10:49:35.764944Z",
     "start_time": "2021-01-13T10:49:35.024724Z"
    }
   },
   "outputs": [
    {
     "data": {
      "text/plain": [
       "[(1, 44800),\n",
       " (3, 2920),\n",
       " (5, 1453),\n",
       " (0, 1008),\n",
       " (6, 638),\n",
       " (4, 404),\n",
       " (2, 158),\n",
       " (7, 29)]"
      ]
     },
     "execution_count": 31,
     "metadata": {},
     "output_type": "execute_result"
    }
   ],
   "source": [
    "Counter(kmeans.predict(X)).most_common()"
   ]
  },
  {
   "cell_type": "code",
   "execution_count": 32,
   "metadata": {
    "ExecuteTime": {
     "end_time": "2021-01-13T10:49:35.823580Z",
     "start_time": "2021-01-13T10:49:35.768217Z"
    }
   },
   "outputs": [
    {
     "data": {
      "text/plain": [
       "[(4, 13169),\n",
       " (3, 9441),\n",
       " (7, 9273),\n",
       " (1, 4864),\n",
       " (5, 4763),\n",
       " (6, 4357),\n",
       " (0, 3262),\n",
       " (2, 2281)]"
      ]
     },
     "execution_count": 32,
     "metadata": {},
     "output_type": "execute_result"
    }
   ],
   "source": [
    "Counter(y).most_common()"
   ]
  },
  {
   "cell_type": "code",
   "execution_count": 33,
   "metadata": {
    "ExecuteTime": {
     "end_time": "2021-01-13T10:49:35.859405Z",
     "start_time": "2021-01-13T10:49:35.826427Z"
    }
   },
   "outputs": [
    {
     "data": {
      "text/plain": [
       "array([0, 6, 7, ..., 7, 1, 7])"
      ]
     },
     "execution_count": 33,
     "metadata": {},
     "output_type": "execute_result"
    }
   ],
   "source": [
    "le.transform(y)"
   ]
  },
  {
   "cell_type": "code",
   "execution_count": 34,
   "metadata": {
    "ExecuteTime": {
     "end_time": "2021-01-13T10:49:36.421046Z",
     "start_time": "2021-01-13T10:49:35.861828Z"
    }
   },
   "outputs": [
    {
     "data": {
      "text/plain": [
       "0.013200719914041453"
      ]
     },
     "execution_count": 34,
     "metadata": {},
     "output_type": "execute_result"
    }
   ],
   "source": [
    "metrics.adjusted_rand_score(kmeans.predict(X), le.transform(y))"
   ]
  },
  {
   "cell_type": "markdown",
   "metadata": {},
   "source": [
    "### Kmeans-tfifd"
   ]
  },
  {
   "cell_type": "code",
   "execution_count": 35,
   "metadata": {
    "ExecuteTime": {
     "end_time": "2021-01-13T10:50:19.333897Z",
     "start_time": "2021-01-13T10:49:36.423310Z"
    }
   },
   "outputs": [],
   "source": [
    "km_tfidf=KMeans(n_clusters=8).fit(X_tf_idf)"
   ]
  },
  {
   "cell_type": "code",
   "execution_count": 36,
   "metadata": {
    "ExecuteTime": {
     "end_time": "2021-01-13T10:50:19.357988Z",
     "start_time": "2021-01-13T10:50:19.335600Z"
    }
   },
   "outputs": [
    {
     "data": {
      "text/plain": [
       "(51416, 151580)"
      ]
     },
     "execution_count": 36,
     "metadata": {},
     "output_type": "execute_result"
    }
   ],
   "source": [
    "X_tf_idf.shape"
   ]
  },
  {
   "cell_type": "code",
   "execution_count": 37,
   "metadata": {
    "ExecuteTime": {
     "end_time": "2021-01-13T10:50:19.529508Z",
     "start_time": "2021-01-13T10:50:19.361671Z"
    }
   },
   "outputs": [
    {
     "data": {
      "text/plain": [
       "0.16233893715582967"
      ]
     },
     "execution_count": 37,
     "metadata": {},
     "output_type": "execute_result"
    }
   ],
   "source": [
    "metrics.adjusted_rand_score(km_tfidf.predict(X_tf_idf), le.transform(df_oh['target']))"
   ]
  },
  {
   "cell_type": "markdown",
   "metadata": {},
   "source": [
    "### OPTICS"
   ]
  },
  {
   "cell_type": "code",
   "execution_count": null,
   "metadata": {
    "scrolled": true
   },
   "outputs": [],
   "source": [
    "from sklearn.cluster import OPTICS\n",
    "\n",
    "opt = OPTICS().fit(X)"
   ]
  }
 ],
 "metadata": {
  "kernelspec": {
   "display_name": "Python 3",
   "language": "python",
   "name": "python3"
  },
  "language_info": {
   "codemirror_mode": {
    "name": "ipython",
    "version": 3
   },
   "file_extension": ".py",
   "mimetype": "text/x-python",
   "name": "python",
   "nbconvert_exporter": "python",
   "pygments_lexer": "ipython3",
   "version": "3.9.4"
  }
 },
 "nbformat": 4,
 "nbformat_minor": 4
}
