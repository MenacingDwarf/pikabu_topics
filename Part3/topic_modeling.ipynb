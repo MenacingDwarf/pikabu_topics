{
 "cells": [
  {
   "cell_type": "markdown",
   "metadata": {},
   "source": [
    "## Prepare train and test"
   ]
  },
  {
   "cell_type": "code",
   "execution_count": 1,
   "metadata": {
    "ExecuteTime": {
     "end_time": "2021-01-13T09:46:50.546004Z",
     "start_time": "2021-01-13T09:46:50.513793Z"
    }
   },
   "outputs": [],
   "source": [
    "%load_ext autoreload\n",
    "%autoreload 2"
   ]
  },
  {
   "cell_type": "code",
   "execution_count": 2,
   "metadata": {},
   "outputs": [],
   "source": [
    "#coding:utf8\n",
    "\n",
    "import sys\n",
    "sys.path.insert(1, '../src')\n",
    "from src import PROJECT_PATHS"
   ]
  },
  {
   "cell_type": "code",
   "execution_count": 15,
   "metadata": {},
   "outputs": [],
   "source": [
    "import pandas as pd\n",
    "from models import TopicsAnalyzer"
   ]
  },
  {
   "cell_type": "code",
   "execution_count": 5,
   "metadata": {
    "ExecuteTime": {
     "end_time": "2021-01-13T10:44:35.755198Z",
     "start_time": "2021-01-13T10:44:32.433340Z"
    }
   },
   "outputs": [
    {
     "data": {
      "text/html": [
       "<div>\n",
       "<style scoped>\n",
       "    .dataframe tbody tr th:only-of-type {\n",
       "        vertical-align: middle;\n",
       "    }\n",
       "\n",
       "    .dataframe tbody tr th {\n",
       "        vertical-align: top;\n",
       "    }\n",
       "\n",
       "    .dataframe thead th {\n",
       "        text-align: right;\n",
       "    }\n",
       "</style>\n",
       "<table border=\"1\" class=\"dataframe\">\n",
       "  <thead>\n",
       "    <tr style=\"text-align: right;\">\n",
       "      <th></th>\n",
       "      <th>LIKES</th>\n",
       "      <th>COMMENTS</th>\n",
       "      <th>target</th>\n",
       "      <th>sin_hour</th>\n",
       "      <th>cos_hour</th>\n",
       "      <th>cos_month</th>\n",
       "      <th>sin_month</th>\n",
       "      <th>cos_weekday</th>\n",
       "      <th>sin_weekday</th>\n",
       "      <th>emb_text_0</th>\n",
       "      <th>...</th>\n",
       "      <th>emb_title_290</th>\n",
       "      <th>emb_title_291</th>\n",
       "      <th>emb_title_292</th>\n",
       "      <th>emb_title_293</th>\n",
       "      <th>emb_title_294</th>\n",
       "      <th>emb_title_295</th>\n",
       "      <th>emb_title_296</th>\n",
       "      <th>emb_title_297</th>\n",
       "      <th>emb_title_298</th>\n",
       "      <th>emb_title_299</th>\n",
       "    </tr>\n",
       "  </thead>\n",
       "  <tbody>\n",
       "    <tr>\n",
       "      <th>0</th>\n",
       "      <td>0.0</td>\n",
       "      <td>50</td>\n",
       "      <td>7</td>\n",
       "      <td>-5.000000e-01</td>\n",
       "      <td>8.660254e-01</td>\n",
       "      <td>0.5</td>\n",
       "      <td>0.866025</td>\n",
       "      <td>-0.222521</td>\n",
       "      <td>-0.974928</td>\n",
       "      <td>0.016769</td>\n",
       "      <td>...</td>\n",
       "      <td>-0.006696</td>\n",
       "      <td>0.007845</td>\n",
       "      <td>-0.022188</td>\n",
       "      <td>-0.030541</td>\n",
       "      <td>0.033095</td>\n",
       "      <td>0.005611</td>\n",
       "      <td>0.079799</td>\n",
       "      <td>-0.060192</td>\n",
       "      <td>0.025157</td>\n",
       "      <td>-0.014475</td>\n",
       "    </tr>\n",
       "    <tr>\n",
       "      <th>1</th>\n",
       "      <td>-39.0</td>\n",
       "      <td>152</td>\n",
       "      <td>7</td>\n",
       "      <td>-1.000000e+00</td>\n",
       "      <td>-1.836970e-16</td>\n",
       "      <td>0.5</td>\n",
       "      <td>0.866025</td>\n",
       "      <td>-0.222521</td>\n",
       "      <td>-0.974928</td>\n",
       "      <td>0.027725</td>\n",
       "      <td>...</td>\n",
       "      <td>0.009607</td>\n",
       "      <td>0.032843</td>\n",
       "      <td>-0.062798</td>\n",
       "      <td>-0.040111</td>\n",
       "      <td>-0.056778</td>\n",
       "      <td>-0.000490</td>\n",
       "      <td>-0.004771</td>\n",
       "      <td>0.044609</td>\n",
       "      <td>0.044650</td>\n",
       "      <td>0.067494</td>\n",
       "    </tr>\n",
       "    <tr>\n",
       "      <th>2</th>\n",
       "      <td>186.0</td>\n",
       "      <td>30</td>\n",
       "      <td>7</td>\n",
       "      <td>1.224647e-16</td>\n",
       "      <td>-1.000000e+00</td>\n",
       "      <td>0.5</td>\n",
       "      <td>0.866025</td>\n",
       "      <td>-0.222521</td>\n",
       "      <td>-0.974928</td>\n",
       "      <td>0.027246</td>\n",
       "      <td>...</td>\n",
       "      <td>-0.017774</td>\n",
       "      <td>0.024428</td>\n",
       "      <td>-0.010970</td>\n",
       "      <td>-0.017435</td>\n",
       "      <td>-0.016049</td>\n",
       "      <td>-0.002617</td>\n",
       "      <td>0.025836</td>\n",
       "      <td>0.001839</td>\n",
       "      <td>-0.010091</td>\n",
       "      <td>-0.012859</td>\n",
       "    </tr>\n",
       "    <tr>\n",
       "      <th>3</th>\n",
       "      <td>48.0</td>\n",
       "      <td>33</td>\n",
       "      <td>7</td>\n",
       "      <td>1.224647e-16</td>\n",
       "      <td>-1.000000e+00</td>\n",
       "      <td>0.5</td>\n",
       "      <td>0.866025</td>\n",
       "      <td>-0.222521</td>\n",
       "      <td>-0.974928</td>\n",
       "      <td>0.037644</td>\n",
       "      <td>...</td>\n",
       "      <td>0.003854</td>\n",
       "      <td>0.045091</td>\n",
       "      <td>0.015493</td>\n",
       "      <td>-0.021446</td>\n",
       "      <td>0.014062</td>\n",
       "      <td>-0.003290</td>\n",
       "      <td>0.072985</td>\n",
       "      <td>-0.022510</td>\n",
       "      <td>0.031925</td>\n",
       "      <td>0.009049</td>\n",
       "    </tr>\n",
       "    <tr>\n",
       "      <th>4</th>\n",
       "      <td>27.0</td>\n",
       "      <td>57</td>\n",
       "      <td>7</td>\n",
       "      <td>1.224647e-16</td>\n",
       "      <td>-1.000000e+00</td>\n",
       "      <td>0.5</td>\n",
       "      <td>0.866025</td>\n",
       "      <td>-0.222521</td>\n",
       "      <td>-0.974928</td>\n",
       "      <td>0.033379</td>\n",
       "      <td>...</td>\n",
       "      <td>-0.028516</td>\n",
       "      <td>0.010097</td>\n",
       "      <td>-0.012332</td>\n",
       "      <td>-0.029570</td>\n",
       "      <td>0.022079</td>\n",
       "      <td>-0.014889</td>\n",
       "      <td>0.041341</td>\n",
       "      <td>-0.025642</td>\n",
       "      <td>-0.012887</td>\n",
       "      <td>-0.030432</td>\n",
       "    </tr>\n",
       "  </tbody>\n",
       "</table>\n",
       "<p>5 rows × 609 columns</p>\n",
       "</div>"
      ],
      "text/plain": [
       "   LIKES  COMMENTS  target      sin_hour      cos_hour  cos_month  sin_month  \\\n",
       "0    0.0        50       7 -5.000000e-01  8.660254e-01        0.5   0.866025   \n",
       "1  -39.0       152       7 -1.000000e+00 -1.836970e-16        0.5   0.866025   \n",
       "2  186.0        30       7  1.224647e-16 -1.000000e+00        0.5   0.866025   \n",
       "3   48.0        33       7  1.224647e-16 -1.000000e+00        0.5   0.866025   \n",
       "4   27.0        57       7  1.224647e-16 -1.000000e+00        0.5   0.866025   \n",
       "\n",
       "   cos_weekday  sin_weekday  emb_text_0  ...  emb_title_290  emb_title_291  \\\n",
       "0    -0.222521    -0.974928    0.016769  ...      -0.006696       0.007845   \n",
       "1    -0.222521    -0.974928    0.027725  ...       0.009607       0.032843   \n",
       "2    -0.222521    -0.974928    0.027246  ...      -0.017774       0.024428   \n",
       "3    -0.222521    -0.974928    0.037644  ...       0.003854       0.045091   \n",
       "4    -0.222521    -0.974928    0.033379  ...      -0.028516       0.010097   \n",
       "\n",
       "   emb_title_292  emb_title_293  emb_title_294  emb_title_295  emb_title_296  \\\n",
       "0      -0.022188      -0.030541       0.033095       0.005611       0.079799   \n",
       "1      -0.062798      -0.040111      -0.056778      -0.000490      -0.004771   \n",
       "2      -0.010970      -0.017435      -0.016049      -0.002617       0.025836   \n",
       "3       0.015493      -0.021446       0.014062      -0.003290       0.072985   \n",
       "4      -0.012332      -0.029570       0.022079      -0.014889       0.041341   \n",
       "\n",
       "   emb_title_297  emb_title_298  emb_title_299  \n",
       "0      -0.060192       0.025157      -0.014475  \n",
       "1       0.044609       0.044650       0.067494  \n",
       "2       0.001839      -0.010091      -0.012859  \n",
       "3      -0.022510       0.031925       0.009049  \n",
       "4      -0.025642      -0.012887      -0.030432  \n",
       "\n",
       "[5 rows x 609 columns]"
      ]
     },
     "execution_count": 5,
     "metadata": {},
     "output_type": "execute_result"
    }
   ],
   "source": [
    "df = pd.read_csv(f\"{PROJECT_PATHS.data}\\\\processed\\\\final_embeded.csv\", index_col=0)\n",
    "df.head()"
   ]
  },
  {
   "cell_type": "code",
   "execution_count": 16,
   "metadata": {
    "ExecuteTime": {
     "end_time": "2021-01-13T10:44:35.861734Z",
     "start_time": "2021-01-13T10:44:35.758115Z"
    }
   },
   "outputs": [
    {
     "data": {
      "text/plain": [
       "23895"
      ]
     },
     "execution_count": 16,
     "metadata": {},
     "output_type": "execute_result"
    }
   ],
   "source": [
    "analyzer = TopicsAnalyzer(df)\n",
    "len(analyzer.X_test)"
   ]
  },
  {
   "cell_type": "markdown",
   "metadata": {},
   "source": [
    "## Classification"
   ]
  },
  {
   "cell_type": "markdown",
   "metadata": {},
   "source": [
    "### SVC"
   ]
  },
  {
   "cell_type": "code",
   "execution_count": 23,
   "metadata": {
    "ExecuteTime": {
     "end_time": "2021-01-13T10:49:13.355815Z",
     "start_time": "2021-01-13T10:47:38.946234Z"
    }
   },
   "outputs": [
    {
     "data": {
      "text/plain": [
       "0.6847876124712283"
      ]
     },
     "execution_count": 23,
     "metadata": {},
     "output_type": "execute_result"
    }
   ],
   "source": [
    "analyzer.SVC()\n",
    "analyzer.last_score()"
   ]
  },
  {
   "cell_type": "markdown",
   "metadata": {},
   "source": [
    "### LogisticRegression"
   ]
  },
  {
   "cell_type": "code",
   "execution_count": 18,
   "metadata": {},
   "outputs": [
    {
     "name": "stderr",
     "output_type": "stream",
     "text": [
      "c:\\users\\stanislav\\appdata\\local\\programs\\python\\python39\\lib\\site-packages\\sklearn\\linear_model\\_logistic.py:763: ConvergenceWarning: lbfgs failed to converge (status=1):\n",
      "STOP: TOTAL NO. of ITERATIONS REACHED LIMIT.\n",
      "\n",
      "Increase the number of iterations (max_iter) or scale the data as shown in:\n",
      "    https://scikit-learn.org/stable/modules/preprocessing.html\n",
      "Please also refer to the documentation for alternative solver options:\n",
      "    https://scikit-learn.org/stable/modules/linear_model.html#logistic-regression\n",
      "  n_iter_i = _check_optimize_result(\n"
     ]
    },
    {
     "data": {
      "text/plain": [
       "0.6848294622305922"
      ]
     },
     "execution_count": 18,
     "metadata": {},
     "output_type": "execute_result"
    }
   ],
   "source": [
    "analyzer.LogisticRegression()\n",
    "analyzer.last_score()"
   ]
  },
  {
   "cell_type": "markdown",
   "metadata": {},
   "source": [
    "### LDA"
   ]
  },
  {
   "cell_type": "code",
   "execution_count": 20,
   "metadata": {
    "ExecuteTime": {
     "end_time": "2021-01-13T10:49:25.880344Z",
     "start_time": "2021-01-13T10:49:23.274618Z"
    }
   },
   "outputs": [
    {
     "data": {
      "text/plain": [
       "0.6759991630048128"
      ]
     },
     "execution_count": 20,
     "metadata": {},
     "output_type": "execute_result"
    }
   ],
   "source": [
    "analyzer.LDA()\n",
    "analyzer.last_score()"
   ]
  },
  {
   "cell_type": "markdown",
   "metadata": {},
   "source": [
    "## TopicModeling"
   ]
  },
  {
   "cell_type": "markdown",
   "metadata": {},
   "source": [
    "### LDA"
   ]
  },
  {
   "cell_type": "markdown",
   "metadata": {},
   "source": [
    "Remove the stop words from the texts, apply lemmatization. After that, let's look at the top 10 words in each topic modeled by the LDA algorithm."
   ]
  },
  {
   "cell_type": "code",
   "execution_count": 36,
   "metadata": {},
   "outputs": [
    {
     "name": "stdout",
     "output_type": "stream",
     "text": [
      "['украина', 'россия', 'страна', 'это', 'который', 'украинский', 'российский', 'год', 'президент', 'власть'] \n",
      "\n",
      "['рори', 'лерой', 'небензя', 'негритенок', 'хьялдур', 'мики', 'дженкинс', 'деж', 'щербань', 'мигель'] \n",
      "\n",
      "['работа', 'работать', 'это', 'деньги', 'компания', 'зарплата', 'месяц', 'мочь', 'год', 'получать'] \n",
      "\n",
      "['михална', 'дудик', 'галустян', 'перчиков', 'стиляга', 'byn', 'академа', 'эпштейн', 'монастырский', 'затулин'] \n",
      "\n",
      "['yafud', 'що', 'україни', 'шикотан', 'симеон', 'свереда', 'форли', 'фифа', 'тутси', 'від'] \n",
      "\n",
      "['хейдар', 'глебович', 'гавриил', 'одиссей', 'ида', 'настасья', 'у0', 'kota', 'камилла', 'stranitsa'] \n",
      "\n",
      "['ницой', 'кл', 'агидель', 'клинцы', 'пердануть', 'ζωήσκατά', 'светозар', 'пж', 'наталка', 'ельченко'] \n",
      "\n",
      "['это', 'весь', 'ребенок', 'свой', 'человек', 'год', 'мочь', 'который', 'друг', 'говорить'] \n",
      "\n",
      "['агамемнон', 'одиссей', 'паламед', 'аякса', 'ахиллес', 'менелай', 'артес', 'гомер', 'аннель', 'хамус'] \n",
      "\n",
      "['нафтогаз', 'газпром', 'газ', 'басурин', 'кубометр', 'пашинян', 'газопровод', 'карабах', 'арбитраж', 'транзит'] \n",
      "\n"
     ]
    }
   ],
   "source": [
    "analyzer.MakeTfIdf()\n",
    "analyzer.TopicModeling()\n",
    "\n",
    "vocab = analyzer.vectorizer.get_feature_names()\n",
    "\n",
    "n_top_words = 10\n",
    "\n",
    "topic_words = {}\n",
    "\n",
    "for topic, comp in enumerate(analyzer.topics):    \n",
    "    word_idx = np.argsort(comp)[::-1][:n_top_words]\n",
    "    print([vocab[x] for x in word_idx],\"\\n\")"
   ]
  },
  {
   "cell_type": "markdown",
   "metadata": {},
   "source": [
    "## Clustering"
   ]
  },
  {
   "cell_type": "markdown",
   "metadata": {},
   "source": [
    "### Kmeans-fasttext"
   ]
  },
  {
   "cell_type": "code",
   "execution_count": 45,
   "metadata": {
    "ExecuteTime": {
     "end_time": "2021-01-13T10:49:36.421046Z",
     "start_time": "2021-01-13T10:49:35.861828Z"
    }
   },
   "outputs": [
    {
     "name": "stderr",
     "output_type": "stream",
     "text": [
      "c:\\users\\stanislav\\appdata\\local\\programs\\python\\python39\\lib\\site-packages\\sklearn\\metrics\\cluster\\_supervised.py:389: RuntimeWarning: overflow encountered in longlong_scalars\n",
      "  return 2. * (tp * tn - fn * fp) / ((tp + fn) * (fn + tn) +\n"
     ]
    },
    {
     "data": {
      "text/plain": [
       "-0.2815778626037387"
      ]
     },
     "execution_count": 45,
     "metadata": {},
     "output_type": "execute_result"
    }
   ],
   "source": [
    "analyzer.Clustering()\n",
    "analyzer.clustering_score"
   ]
  },
  {
   "cell_type": "markdown",
   "metadata": {},
   "source": [
    "### Kmeans-tfifd"
   ]
  },
  {
   "cell_type": "code",
   "execution_count": 48,
   "metadata": {
    "ExecuteTime": {
     "end_time": "2021-01-13T10:50:19.529508Z",
     "start_time": "2021-01-13T10:50:19.361671Z"
    }
   },
   "outputs": [
    {
     "name": "stderr",
     "output_type": "stream",
     "text": [
      "c:\\users\\stanislav\\appdata\\local\\programs\\python\\python39\\lib\\site-packages\\sklearn\\metrics\\cluster\\_supervised.py:389: RuntimeWarning: overflow encountered in longlong_scalars\n",
      "  return 2. * (tp * tn - fn * fp) / ((tp + fn) * (fn + tn) +\n"
     ]
    },
    {
     "data": {
      "text/plain": [
       "4.945087741830758"
      ]
     },
     "execution_count": 48,
     "metadata": {},
     "output_type": "execute_result"
    }
   ],
   "source": [
    "analyzer.Clustering(True)\n",
    "analyzer.clustering_score"
   ]
  }
 ],
 "metadata": {
  "kernelspec": {
   "display_name": "Python 3",
   "language": "python",
   "name": "python3"
  },
  "language_info": {
   "codemirror_mode": {
    "name": "ipython",
    "version": 3
   },
   "file_extension": ".py",
   "mimetype": "text/x-python",
   "name": "python",
   "nbconvert_exporter": "python",
   "pygments_lexer": "ipython3",
   "version": "3.9.4"
  }
 },
 "nbformat": 4,
 "nbformat_minor": 4
}
